{
  "nbformat": 4,
  "nbformat_minor": 0,
  "metadata": {
    "colab": {
      "provenance": []
    },
    "kernelspec": {
      "name": "python3",
      "display_name": "Python 3"
    },
    "language_info": {
      "name": "python"
    }
  },
  "cells": [
    {
      "cell_type": "markdown",
      "source": [
        "Celem tych laboratoriów jest zapoznanie się z podstawowymi metrykami klasyfikacji w uczeniu maszynowym oraz praktyczne zastosowanie ich do oceny wytrenowanych modeli. Poprzez analizę wyników dwóch różnych klasyfikatorów nauczymy się  interpretować metryki oraz zrozumieć ich znaczenie w kontekście realnych problemów klasyfikacyjnych."
      ],
      "metadata": {
        "id": "kdflQd9fgDTM"
      }
    },
    {
      "cell_type": "markdown",
      "source": [
        "**scikit-learn** (skrótowo `sklearn`) to jedna z najbardziej popularnych bibliotek w Pythonie dla uczenia maszynowego. Oferuje ona prosty i skuteczny zestaw narzędzi do analizy danych, w tym klasyfikacji, regresji, klasteryzacji i redukcji wymiarowości. W trakcie tych laboratoriów skupimy się głównie na modułach dotyczących klasyfikacji. Aby wykorzystać pełny potencjał biblioteki, studenci będą musieli samodzielnie wyszukiwać odpowiednie funkcje i metody w dokumentacji scikit-learn lub innych źródłach."
      ],
      "metadata": {
        "id": "PJ9EkLJpgjLx"
      }
    },
    {
      "cell_type": "markdown",
      "source": [
        "# Przygotowanie danych i modeli"
      ],
      "metadata": {
        "id": "VzqgijjfktSE"
      }
    },
    {
      "cell_type": "markdown",
      "source": [
        "Poniższe komórki trzeba uruchomić w celu rozwiązania zadania ale nie trzeba wchodzić w to jak dokładnie działają, ważny jest efekt końcowy - 2 wytrenowane klasyfikatory"
      ],
      "metadata": {
        "id": "MJt4FDJykv_e"
      }
    },
    {
      "cell_type": "code",
      "source": [
        "# @title Pobranie danych\n",
        "!wget -q https://archive.ics.uci.edu/static/public/17/breast+cancer+wisconsin+diagnostic.zip\n",
        "!unzip -qq /content/breast+cancer+wisconsin+diagnostic.zip\n"
      ],
      "metadata": {
        "cellView": "form",
        "id": "38kTiAgGPFlq"
      },
      "execution_count": null,
      "outputs": []
    },
    {
      "cell_type": "code",
      "source": [
        "import numpy as np\n",
        "import pandas as pd\n",
        "\n",
        "from sklearn.model_selection import train_test_split\n",
        "# @title Przygotowanie danych\n",
        "df = pd.read_csv('wdbc.data')\n",
        "x = df.iloc[:, [j for j, c in enumerate(df.columns) if j not in [0,1]]]\n",
        "y = df.iloc[:,1]\n",
        "y = y.iloc[:].map({'M':1,\"B\":0})\n",
        "x = x.to_numpy()\n",
        "y = y.to_numpy().reshape(-1, 1)\n",
        "X_train, X_test, y_train, y_test = train_test_split(x, y, test_size=0.20, random_state=42)"
      ],
      "metadata": {
        "cellView": "form",
        "id": "1NovMWPPPUOu"
      },
      "execution_count": null,
      "outputs": []
    },
    {
      "cell_type": "code",
      "execution_count": null,
      "metadata": {
        "colab": {
          "base_uri": "https://localhost:8080/",
          "height": 442
        },
        "cellView": "form",
        "id": "_8pW60hqKBhV",
        "outputId": "72909e52-fc27-46a8-cdbb-a823e1dce419"
      },
      "outputs": [
        {
          "output_type": "stream",
          "name": "stderr",
          "text": [
            "/usr/local/lib/python3.10/dist-packages/sklearn/utils/validation.py:1143: DataConversionWarning: A column-vector y was passed when a 1d array was expected. Please change the shape of y to (n_samples, ), for example using ravel().\n",
            "  y = column_or_1d(y, warn=True)\n",
            "/usr/local/lib/python3.10/dist-packages/sklearn/linear_model/_logistic.py:458: ConvergenceWarning: lbfgs failed to converge (status=1):\n",
            "STOP: TOTAL NO. of ITERATIONS REACHED LIMIT.\n",
            "\n",
            "Increase the number of iterations (max_iter) or scale the data as shown in:\n",
            "    https://scikit-learn.org/stable/modules/preprocessing.html\n",
            "Please also refer to the documentation for alternative solver options:\n",
            "    https://scikit-learn.org/stable/modules/linear_model.html#logistic-regression\n",
            "  n_iter_i = _check_optimize_result(\n",
            "/usr/local/lib/python3.10/dist-packages/sklearn/utils/validation.py:1143: DataConversionWarning: A column-vector y was passed when a 1d array was expected. Please change the shape of y to (n_samples, ), for example using ravel().\n",
            "  y = column_or_1d(y, warn=True)\n",
            "/usr/local/lib/python3.10/dist-packages/sklearn/linear_model/_logistic.py:458: ConvergenceWarning: lbfgs failed to converge (status=1):\n",
            "STOP: TOTAL NO. of ITERATIONS REACHED LIMIT.\n",
            "\n",
            "Increase the number of iterations (max_iter) or scale the data as shown in:\n",
            "    https://scikit-learn.org/stable/modules/preprocessing.html\n",
            "Please also refer to the documentation for alternative solver options:\n",
            "    https://scikit-learn.org/stable/modules/linear_model.html#logistic-regression\n",
            "  n_iter_i = _check_optimize_result(\n"
          ]
        },
        {
          "output_type": "execute_result",
          "data": {
            "text/plain": [
              "LogisticRegression(class_weight={0: 0.1, 1: 650})"
            ],
            "text/html": [
              "<style>#sk-container-id-1 {color: black;background-color: white;}#sk-container-id-1 pre{padding: 0;}#sk-container-id-1 div.sk-toggleable {background-color: white;}#sk-container-id-1 label.sk-toggleable__label {cursor: pointer;display: block;width: 100%;margin-bottom: 0;padding: 0.3em;box-sizing: border-box;text-align: center;}#sk-container-id-1 label.sk-toggleable__label-arrow:before {content: \"▸\";float: left;margin-right: 0.25em;color: #696969;}#sk-container-id-1 label.sk-toggleable__label-arrow:hover:before {color: black;}#sk-container-id-1 div.sk-estimator:hover label.sk-toggleable__label-arrow:before {color: black;}#sk-container-id-1 div.sk-toggleable__content {max-height: 0;max-width: 0;overflow: hidden;text-align: left;background-color: #f0f8ff;}#sk-container-id-1 div.sk-toggleable__content pre {margin: 0.2em;color: black;border-radius: 0.25em;background-color: #f0f8ff;}#sk-container-id-1 input.sk-toggleable__control:checked~div.sk-toggleable__content {max-height: 200px;max-width: 100%;overflow: auto;}#sk-container-id-1 input.sk-toggleable__control:checked~label.sk-toggleable__label-arrow:before {content: \"▾\";}#sk-container-id-1 div.sk-estimator input.sk-toggleable__control:checked~label.sk-toggleable__label {background-color: #d4ebff;}#sk-container-id-1 div.sk-label input.sk-toggleable__control:checked~label.sk-toggleable__label {background-color: #d4ebff;}#sk-container-id-1 input.sk-hidden--visually {border: 0;clip: rect(1px 1px 1px 1px);clip: rect(1px, 1px, 1px, 1px);height: 1px;margin: -1px;overflow: hidden;padding: 0;position: absolute;width: 1px;}#sk-container-id-1 div.sk-estimator {font-family: monospace;background-color: #f0f8ff;border: 1px dotted black;border-radius: 0.25em;box-sizing: border-box;margin-bottom: 0.5em;}#sk-container-id-1 div.sk-estimator:hover {background-color: #d4ebff;}#sk-container-id-1 div.sk-parallel-item::after {content: \"\";width: 100%;border-bottom: 1px solid gray;flex-grow: 1;}#sk-container-id-1 div.sk-label:hover label.sk-toggleable__label {background-color: #d4ebff;}#sk-container-id-1 div.sk-serial::before {content: \"\";position: absolute;border-left: 1px solid gray;box-sizing: border-box;top: 0;bottom: 0;left: 50%;z-index: 0;}#sk-container-id-1 div.sk-serial {display: flex;flex-direction: column;align-items: center;background-color: white;padding-right: 0.2em;padding-left: 0.2em;position: relative;}#sk-container-id-1 div.sk-item {position: relative;z-index: 1;}#sk-container-id-1 div.sk-parallel {display: flex;align-items: stretch;justify-content: center;background-color: white;position: relative;}#sk-container-id-1 div.sk-item::before, #sk-container-id-1 div.sk-parallel-item::before {content: \"\";position: absolute;border-left: 1px solid gray;box-sizing: border-box;top: 0;bottom: 0;left: 50%;z-index: -1;}#sk-container-id-1 div.sk-parallel-item {display: flex;flex-direction: column;z-index: 1;position: relative;background-color: white;}#sk-container-id-1 div.sk-parallel-item:first-child::after {align-self: flex-end;width: 50%;}#sk-container-id-1 div.sk-parallel-item:last-child::after {align-self: flex-start;width: 50%;}#sk-container-id-1 div.sk-parallel-item:only-child::after {width: 0;}#sk-container-id-1 div.sk-dashed-wrapped {border: 1px dashed gray;margin: 0 0.4em 0.5em 0.4em;box-sizing: border-box;padding-bottom: 0.4em;background-color: white;}#sk-container-id-1 div.sk-label label {font-family: monospace;font-weight: bold;display: inline-block;line-height: 1.2em;}#sk-container-id-1 div.sk-label-container {text-align: center;}#sk-container-id-1 div.sk-container {/* jupyter's `normalize.less` sets `[hidden] { display: none; }` but bootstrap.min.css set `[hidden] { display: none !important; }` so we also need the `!important` here to be able to override the default hidden behavior on the sphinx rendered scikit-learn.org. See: https://github.com/scikit-learn/scikit-learn/issues/21755 */display: inline-block !important;position: relative;}#sk-container-id-1 div.sk-text-repr-fallback {display: none;}</style><div id=\"sk-container-id-1\" class=\"sk-top-container\"><div class=\"sk-text-repr-fallback\"><pre>LogisticRegression(class_weight={0: 0.1, 1: 650})</pre><b>In a Jupyter environment, please rerun this cell to show the HTML representation or trust the notebook. <br />On GitHub, the HTML representation is unable to render, please try loading this page with nbviewer.org.</b></div><div class=\"sk-container\" hidden><div class=\"sk-item\"><div class=\"sk-estimator sk-toggleable\"><input class=\"sk-toggleable__control sk-hidden--visually\" id=\"sk-estimator-id-1\" type=\"checkbox\" checked><label for=\"sk-estimator-id-1\" class=\"sk-toggleable__label sk-toggleable__label-arrow\">LogisticRegression</label><div class=\"sk-toggleable__content\"><pre>LogisticRegression(class_weight={0: 0.1, 1: 650})</pre></div></div></div></div></div>"
            ]
          },
          "metadata": {},
          "execution_count": 4
        }
      ],
      "source": [
        "# @title Trening klasyfikatorów\n",
        "from sklearn.linear_model import LogisticRegression\n",
        "clf_1 = LogisticRegression(C=1.0, class_weight={0:15,1:0.2}, dual=False, fit_intercept=True,\n",
        "                  intercept_scaling=1, l1_ratio=None, max_iter=100, n_jobs=None, penalty='l2',\n",
        "                  random_state=None, solver='lbfgs', tol=0.0001,       verbose=0,\n",
        "                  warm_start=False)\n",
        "clf_2 = LogisticRegression(C=1.0, class_weight={0:0.1,1:650}, dual=False, fit_intercept=True,\n",
        "                  intercept_scaling=1, l1_ratio=None, max_iter=100, n_jobs=None, penalty='l2',\n",
        "                  random_state=None, solver='lbfgs', tol=0.0001, verbose=0,\n",
        "                  warm_start=False)\n",
        "clf_1.fit(X_train,y_train)\n",
        "clf_2.fit(X_train,y_train)"
      ]
    },
    {
      "cell_type": "markdown",
      "source": [
        "# Kontekst"
      ],
      "metadata": {
        "id": "MMsmqLxlj1Wh"
      }
    },
    {
      "cell_type": "markdown",
      "source": [
        "Masz do dyspozycji\n",
        "* 2 różne modele wytrenowane na tych samych danych\n",
        "  * `clf_1`\n",
        "  * `clf_2`\n",
        "\n",
        "  Modele przewidują na podstawie 30 cech mammografii (w które nie będziemy wchodzić) czy nowotwór piersi jest złośliwy czy łagodny\n",
        "* zbiór testowy na którym będziesz oceniać wyniki modeli\n",
        " * `X_text` zawierający dane wejściowe do modelu\n",
        " * `y_test` zawierający etykiety danych które powinien przewidzieć model na podstawie danych `X_test`\n",
        "\n",
        " Twoim celem jest ocena działania dwóch modeli korzystając ze zbioru testowego"
      ],
      "metadata": {
        "id": "DW14jMLTj3FB"
      }
    },
    {
      "cell_type": "markdown",
      "source": [
        "## Zbiór X_test"
      ],
      "metadata": {
        "id": "cfja9NvWmF13"
      }
    },
    {
      "cell_type": "code",
      "source": [
        "len(X_test) # 114 przykładów"
      ],
      "metadata": {
        "colab": {
          "base_uri": "https://localhost:8080/"
        },
        "id": "OxaNoXEeloEC",
        "outputId": "9585f95a-6300-4803-c60f-5843ce5ffb8d"
      },
      "execution_count": null,
      "outputs": [
        {
          "output_type": "execute_result",
          "data": {
            "text/plain": [
              "114"
            ]
          },
          "metadata": {},
          "execution_count": 5
        }
      ]
    },
    {
      "cell_type": "code",
      "source": [
        "X_test.shape # model używa 30 cech aby przewidzieć wynik"
      ],
      "metadata": {
        "colab": {
          "base_uri": "https://localhost:8080/"
        },
        "id": "UKJqtEkEl2Oz",
        "outputId": "d4bae641-749b-4740-99fa-428444c68d81"
      },
      "execution_count": null,
      "outputs": [
        {
          "output_type": "execute_result",
          "data": {
            "text/plain": [
              "(114, 30)"
            ]
          },
          "metadata": {},
          "execution_count": 6
        }
      ]
    },
    {
      "cell_type": "markdown",
      "source": [
        "# Zbiór y_test"
      ],
      "metadata": {
        "id": "IDOLz4SrmJly"
      }
    },
    {
      "cell_type": "markdown",
      "source": [
        "Etykiety danych\n",
        "* 0 - guz łagodny\n",
        "* 1 - guz złośliwy"
      ],
      "metadata": {
        "id": "ZcgljDTFmSD0"
      }
    },
    {
      "cell_type": "code",
      "source": [
        "y_test"
      ],
      "metadata": {
        "colab": {
          "base_uri": "https://localhost:8080/"
        },
        "id": "rXuEOLYwmMuY",
        "outputId": "8aa30940-5d5b-4640-cb79-af91089c1676"
      },
      "execution_count": null,
      "outputs": [
        {
          "output_type": "execute_result",
          "data": {
            "text/plain": [
              "array([[1],\n",
              "       [0],\n",
              "       [1],\n",
              "       [0],\n",
              "       [0],\n",
              "       [0],\n",
              "       [0],\n",
              "       [1],\n",
              "       [1],\n",
              "       [0],\n",
              "       [1],\n",
              "       [0],\n",
              "       [0],\n",
              "       [1],\n",
              "       [0],\n",
              "       [0],\n",
              "       [0],\n",
              "       [1],\n",
              "       [1],\n",
              "       [0],\n",
              "       [0],\n",
              "       [1],\n",
              "       [0],\n",
              "       [0],\n",
              "       [0],\n",
              "       [1],\n",
              "       [0],\n",
              "       [1],\n",
              "       [0],\n",
              "       [0],\n",
              "       [0],\n",
              "       [1],\n",
              "       [1],\n",
              "       [0],\n",
              "       [1],\n",
              "       [1],\n",
              "       [0],\n",
              "       [1],\n",
              "       [0],\n",
              "       [0],\n",
              "       [0],\n",
              "       [0],\n",
              "       [0],\n",
              "       [0],\n",
              "       [0],\n",
              "       [0],\n",
              "       [0],\n",
              "       [1],\n",
              "       [0],\n",
              "       [1],\n",
              "       [0],\n",
              "       [0],\n",
              "       [0],\n",
              "       [0],\n",
              "       [1],\n",
              "       [0],\n",
              "       [0],\n",
              "       [1],\n",
              "       [1],\n",
              "       [0],\n",
              "       [0],\n",
              "       [0],\n",
              "       [0],\n",
              "       [0],\n",
              "       [1],\n",
              "       [1],\n",
              "       [0],\n",
              "       [1],\n",
              "       [1],\n",
              "       [1],\n",
              "       [0],\n",
              "       [0],\n",
              "       [1],\n",
              "       [0],\n",
              "       [1],\n",
              "       [1],\n",
              "       [1],\n",
              "       [0],\n",
              "       [1],\n",
              "       [1],\n",
              "       [1],\n",
              "       [1],\n",
              "       [1],\n",
              "       [0],\n",
              "       [0],\n",
              "       [0],\n",
              "       [1],\n",
              "       [1],\n",
              "       [0],\n",
              "       [0],\n",
              "       [0],\n",
              "       [0],\n",
              "       [1],\n",
              "       [1],\n",
              "       [0],\n",
              "       [1],\n",
              "       [0],\n",
              "       [1],\n",
              "       [1],\n",
              "       [0],\n",
              "       [0],\n",
              "       [0],\n",
              "       [0],\n",
              "       [0],\n",
              "       [1],\n",
              "       [1],\n",
              "       [0],\n",
              "       [0],\n",
              "       [1],\n",
              "       [0],\n",
              "       [0],\n",
              "       [1],\n",
              "       [0],\n",
              "       [0]])"
            ]
          },
          "metadata": {},
          "execution_count": 7
        }
      ]
    },
    {
      "cell_type": "markdown",
      "source": [
        "## Predykcje modeli"
      ],
      "metadata": {
        "id": "anfz5G3Pm1zB"
      }
    },
    {
      "cell_type": "code",
      "source": [
        "y_pred_1 = clf_1.predict(X_test)\n",
        "y_pred_2 = clf_2.predict(X_test)"
      ],
      "metadata": {
        "id": "ChIiPTGbhyOp"
      },
      "execution_count": null,
      "outputs": []
    },
    {
      "cell_type": "code",
      "source": [
        "y_pred_1"
      ],
      "metadata": {
        "colab": {
          "base_uri": "https://localhost:8080/"
        },
        "id": "0Hqmifskm7Vx",
        "outputId": "7e84ad26-6a06-487d-efd3-30c5449da911"
      },
      "execution_count": null,
      "outputs": [
        {
          "output_type": "execute_result",
          "data": {
            "text/plain": [
              "array([1, 0, 0, 0, 0, 0, 0, 1, 1, 0, 1, 0, 0, 1, 0, 0, 0, 1, 0, 0, 0, 1,\n",
              "       0, 0, 0, 0, 0, 1, 0, 0, 0, 0, 1, 0, 1, 1, 0, 1, 0, 0, 0, 0, 0, 0,\n",
              "       0, 0, 0, 1, 0, 0, 0, 0, 0, 0, 0, 0, 0, 0, 1, 0, 0, 0, 0, 0, 1, 0,\n",
              "       0, 1, 1, 1, 0, 0, 0, 0, 1, 1, 1, 0, 1, 1, 1, 0, 1, 0, 0, 0, 1, 1,\n",
              "       0, 0, 0, 0, 1, 1, 0, 1, 0, 1, 1, 0, 0, 0, 0, 0, 0, 1, 0, 0, 1, 0,\n",
              "       0, 1, 0, 0])"
            ]
          },
          "metadata": {},
          "execution_count": 9
        }
      ]
    },
    {
      "cell_type": "markdown",
      "source": [
        "Podczasa zadań należy porównać `y_pred` z `y_test`"
      ],
      "metadata": {
        "id": "FprcHLAhm7Fm"
      }
    },
    {
      "cell_type": "markdown",
      "source": [
        "# Zadania"
      ],
      "metadata": {
        "id": "6WCK4xi2k_Gz"
      }
    },
    {
      "cell_type": "markdown",
      "source": [
        "## 1 Podstawowe metryki"
      ],
      "metadata": {
        "id": "tVxY83wPnLpq"
      }
    },
    {
      "cell_type": "markdown",
      "source": [
        "### 1.1 Oblicz dokładność (accuracy) obu klasyfikatorów clf_1 i clf_2 na zbiorze testowym."
      ],
      "metadata": {
        "id": "ktxDcdx8nN3G"
      }
    },
    {
      "cell_type": "code",
      "source": [
        "import sklearn.metrics as sk"
      ],
      "metadata": {
        "id": "FuiGtkhLky3m"
      },
      "execution_count": null,
      "outputs": []
    },
    {
      "cell_type": "code",
      "source": [
        "accuracy_clf1 = sk.accuracy_score(y_test, y_pred_1)\n",
        "accuracy_clf2 = sk.accuracy_score(y_test, y_pred_2)"
      ],
      "metadata": {
        "id": "-6qLhSYpnTg4"
      },
      "execution_count": null,
      "outputs": []
    },
    {
      "cell_type": "markdown",
      "source": [
        "### 1.2 Oblicz precyzję i recall i F1 dla obu klasyfikatorów. Który z klasyfikatorów ma wyższą precyzję, a który wyższy recall?"
      ],
      "metadata": {
        "id": "3HpLRXCFnYny"
      }
    },
    {
      "cell_type": "code",
      "source": [
        "precision_clf1 = sk.precision_score(y_test, y_pred_1, average='binary')\n",
        "recall_clf1 = sk.recall_score(y_test, y_pred_1, average='binary')\n",
        "f1_clf1 = sk.f1_score(y_test, y_pred_1, average='binary')\n",
        "\n",
        "precision_clf2 = sk.precision_score(y_test, y_pred_2, average='binary')\n",
        "recall_clf2 = sk.recall_score(y_test, y_pred_2, average='binary')\n",
        "f1_clf2 = sk.f1_score(y_test, y_pred_2, average='binary')\n",
        "\n",
        "print(f\"Klasyfikator clf_1: Precyzja: {precision_clf1}, Recall: {recall_clf1}, F1-score: {f1_clf1}\")\n",
        "print(f\"Klasyfikator clf_2: Precyzja: {precision_clf2}, Recall: {recall_clf2}, F1-score: {f1_clf2}\")"
      ],
      "metadata": {
        "id": "BUhXKhLdnnoj",
        "colab": {
          "base_uri": "https://localhost:8080/"
        },
        "outputId": "989ff958-317d-4fa8-b858-ab5a8f853038"
      },
      "execution_count": null,
      "outputs": [
        {
          "output_type": "stream",
          "name": "stdout",
          "text": [
            "Klasyfikator clf_1: Precyzja: 1.0, Recall: 0.7608695652173914, F1-score: 0.8641975308641976\n",
            "Klasyfikator clf_2: Precyzja: 0.7076923076923077, Recall: 1.0, F1-score: 0.8288288288288288\n"
          ]
        }
      ]
    },
    {
      "cell_type": "markdown",
      "source": [
        "*Odpowiedź*: Klasyfikator **clf_1** ma wyższą *precyzję*. Klasyfikator **clf_2** ma wyższy *recall*."
      ],
      "metadata": {
        "id": "PEi9OJLRnuLU"
      }
    },
    {
      "cell_type": "markdown",
      "source": [
        "### 1.3 Wygeneruj macierz błędów dla obu klasyfikatorów i przedstaw je w formie wizualnej. Na podstawie tej macierzy, określ, który klasyfikator ma więcej **fałszywie pozytywnych** wyników."
      ],
      "metadata": {
        "id": "49FDIDrNhRhO"
      }
    },
    {
      "cell_type": "markdown",
      "source": [
        "Wskazówka: możesz korzystać z biblitek do wyświetlania wykresów w pythonie takich jak `matlotlib`, `plotly` czy `seaborn`. Sklearn ma też wbudowaną funkcję do wyświetlania macierzy pomyłek"
      ],
      "metadata": {
        "id": "AqaSqdCnoEhu"
      }
    },
    {
      "cell_type": "code",
      "source": [
        "import matplotlib.pyplot as plt\n",
        "import seaborn as sns"
      ],
      "metadata": {
        "id": "X9y6EhRChskU"
      },
      "execution_count": null,
      "outputs": []
    },
    {
      "cell_type": "code",
      "source": [
        "cm_clf1 = sk.confusion_matrix(y_test, y_pred_1)\n",
        "cm_clf2 = sk.confusion_matrix(y_test, y_pred_2)\n",
        "\n",
        "fig, ax = plt.subplots(1, 2, figsize=(12, 6))\n",
        "sns.heatmap(cm_clf1, annot=True, fmt='d', cmap='Blues', ax=ax[0])\n",
        "ax[0].set_title('Confusion matrix dla clf_1')\n",
        "ax[0].set_xlabel('y_pred')\n",
        "ax[0].set_ylabel('y_test')\n",
        "\n",
        "sns.heatmap(cm_clf2, annot=True, fmt='d', cmap='Blues', ax=ax[1])\n",
        "ax[1].set_title('Confusion matrix dla clf_2')\n",
        "ax[1].set_xlabel('y_pred')\n",
        "ax[1].set_ylabel('y_test')\n",
        "\n",
        "plt.show()"
      ],
      "metadata": {
        "colab": {
          "base_uri": "https://localhost:8080/",
          "height": 509
        },
        "id": "JC9FiOt11jrS",
        "outputId": "1064b1d7-e32a-4cbd-ce18-9c965f4edf32"
      },
      "execution_count": null,
      "outputs": [
        {
          "output_type": "display_data",
          "data": {
            "text/plain": [
              "<Figure size 1200x600 with 4 Axes>"
            ],
            "image/png": "[encoded data removed]"
          },
          "metadata": {}
        }
      ]
    },
    {
      "cell_type": "markdown",
      "source": [
        "Odpowiedź: Klasyfikator **clf_2** ma więcej *fałszywie pozytywnych* wyników."
      ],
      "metadata": {
        "id": "qkZWnxceofMm"
      }
    },
    {
      "cell_type": "markdown",
      "source": [
        "## Zawansowane metryki"
      ],
      "metadata": {
        "id": "GWe6X_C7olLf"
      }
    },
    {
      "cell_type": "markdown",
      "source": [
        "### 2.1 Dla obu klasyfikatorów clf_1 i clf_2, narysuj krzywą ROC (Receiver Operating Characteristic) oraz oblicz pole pod krzywą (AUC). Dlaczego krzywa ROC wygląda niemal identycznie skoro klasyfikaory mają różne wyniki?"
      ],
      "metadata": {
        "id": "vaKtPoamoo_F"
      }
    },
    {
      "cell_type": "markdown",
      "source": [
        "Wskazówka - do tej metryki będziemy potrzebowali uzyskać nie tylko przewidziane przez model klasy ale też ich prawdopodobieństwa, mozna skorzystać z funkcji `clf.predict_proba()` ale zwraca ona 2 tablice jedną dla klasy 0 drugą dla klasy 1. Do naszej anali potrzebujemy tylko jednej tablicy bo liczymy metryky względem klasy 1"
      ],
      "metadata": {
        "id": "kW1UGMyqotD6"
      }
    },
    {
      "cell_type": "markdown",
      "source": [
        "Wskazówka: jest do tego wbudowana funkcja w sklearn"
      ],
      "metadata": {
        "id": "zjskB6rRr3AK"
      }
    },
    {
      "cell_type": "code",
      "source": [
        "y_proba_clf1 = clf_1.predict_proba(X_test)\n",
        "y_proba_clf2 = clf_2.predict_proba(X_test)\n",
        "\n",
        "fpr_clf1, tpr_clf1, _ = sk.roc_curve(y_test, y_proba_clf1[:, 1])\n",
        "roc_auc_clf1 = sk.auc(fpr_clf1, tpr_clf1)\n",
        "\n",
        "fpr_clf2, tpr_clf2, _ = sk.roc_curve(y_test, y_proba_clf2[:, 1])\n",
        "roc_auc_clf2 = sk.auc(fpr_clf2, tpr_clf2)\n",
        "\n",
        "plt.figure(figsize=(8, 6))\n",
        "plt.plot(fpr_clf1, tpr_clf1, color='darkorange', lw=2)\n",
        "plt.plot(fpr_clf2, tpr_clf2, color='blue', lw=2)\n",
        "plt.plot([0, 1], [0, 1], color='gray', lw=2, linestyle='--')\n",
        "plt.xlim([0.0, 1.0])\n",
        "plt.ylim([0.0, 1.05])\n",
        "plt.xlabel('False positive rate')\n",
        "plt.ylabel('True positive rate (Recall)')\n",
        "plt.title('ROC-AUC')\n",
        "plt.show()"
      ],
      "metadata": {
        "id": "Tep51AigSXR5",
        "colab": {
          "base_uri": "https://localhost:8080/",
          "height": 564
        },
        "outputId": "af3b7a60-a2b3-41c9-f6ef-13a0e01d73a2"
      },
      "execution_count": null,
      "outputs": [
        {
          "output_type": "display_data",
          "data": {
            "text/plain": [
              "<Figure size 800x600 with 1 Axes>"
            ],
            "image/png": "[encoded data removed]"
          },
          "metadata": {}
        }
      ]
    },
    {
      "cell_type": "markdown",
      "source": [
        "Odpowiedź:\n",
        "Jeśli oba klasyfikatory są testowane na zbliżonych zbiorach danych, które wykazują podobne charakterystyki i strukturę, to można oczekiwać, że oba klasyfikatory dadzą zbliżone wyniki"
      ],
      "metadata": {
        "id": "cbHg0XampJYl"
      }
    },
    {
      "cell_type": "markdown",
      "source": [
        "### 2.2 Dla obu klasyfikatorów narysuj krzywą Precision-Recall."
      ],
      "metadata": {
        "id": "-AlG0G8LrUsU"
      }
    },
    {
      "cell_type": "markdown",
      "source": [
        "Wskazówka: jest do tego wbudowana funkcja w sklearn"
      ],
      "metadata": {
        "id": "cPOunvalrwqu"
      }
    },
    {
      "cell_type": "code",
      "source": [
        "precision_clf1, recall_clf1, _ = sk.precision_recall_curve(y_test, y_proba_clf1[:, 1])\n",
        "\n",
        "precision_clf2, recall_clf2, _ = sk.precision_recall_curve(y_test, y_proba_clf2[:, 1])\n",
        "\n",
        "plt.plot(recall_clf1, precision_clf1, marker='.')\n",
        "plt.plot(recall_clf2, precision_clf2, marker='.')\n",
        "plt.xlabel('Recall')\n",
        "plt.ylabel('Precision')\n",
        "plt.title('Precision-Recall')\n",
        "plt.show()"
      ],
      "metadata": {
        "id": "TUcUifyRiSF0",
        "colab": {
          "base_uri": "https://localhost:8080/",
          "height": 472
        },
        "outputId": "047e792c-61cd-4c9c-e4b4-7693972dcb2b"
      },
      "execution_count": null,
      "outputs": [
        {
          "output_type": "display_data",
          "data": {
            "text/plain": [
              "<Figure size 640x480 with 1 Axes>"
            ],
            "image/png": "[encoded data removed]"
          },
          "metadata": {}
        }
      ]
    },
    {
      "cell_type": "markdown",
      "source": [
        "### 2.3 Oblicz precision, recall i f1 dla tresholdu 0.7"
      ],
      "metadata": {
        "id": "roVUUlgCpLKj"
      }
    },
    {
      "cell_type": "markdown",
      "source": [
        "W poprzednim zadaniu zaobserwowaliśmy jak zmienia się precyzja i recall modelu w zależości od różnych tresholdów"
      ],
      "metadata": {
        "id": "Ci9MirgBr8v7"
      }
    },
    {
      "cell_type": "markdown",
      "source": [
        "Do tej pory do liczenia metryk używaliśmy używaliśmy wyniku `model.predict()` ta funcja zwraca najbardziej prawdopodobną klasę. Ale możemy ręcznie uznać od którego momentu uznajemy że wynik należy do klasy 0 albo 1 np. możemy uznać coś za klase 1 dopiero jeśli prawdopodobieństwo które zwróci model dla tej klasy jest wyższe niż 70%. W tym zdania użyj prawdopodobieństw zwróconych przez model i ręcznie policz `y_pred` pod warunkiem że klasa 1 jest przewidziana dopier od prawdopodobieństwa 0.7"
      ],
      "metadata": {
        "id": "jxF1-Njgpa4R"
      }
    },
    {
      "cell_type": "code",
      "source": [
        "y_pred_clf1_threshold = (y_proba_clf1[:, 1] >= 0.7).astype(int)\n",
        "y_pred_clf2_threshold = (y_proba_clf2[:, 1] >= 0.7).astype(int)\n",
        "\n",
        "precision_clf1_threshold = sk.precision_score(y_test, y_pred_clf1_threshold)\n",
        "recall_clf1_threshold = sk.recall_score(y_test, y_pred_clf1_threshold)\n",
        "f1_clf1_threshold = sk.f1_score(y_test, y_pred_clf1_threshold)\n",
        "\n",
        "precision_clf2_threshold = sk.precision_score(y_test, y_pred_clf2_threshold)\n",
        "recall_clf2_threshold = sk.recall_score(y_test, y_pred_clf2_threshold)\n",
        "f1_clf2_threshold = sk.f1_score(y_test, y_pred_clf2_threshold)\n",
        "\n",
        "print(f\"Klasyfikator clf_1: Precyzja: {precision_clf1_threshold}, Recall: {recall_clf1_threshold}, F1-score: {f1_clf1_threshold}\")\n",
        "print(f\"Klasyfikator clf_2: Precyzja: {precision_clf2_threshold}, Recall: {recall_clf2_threshold}, F1-score: {f1_clf2_threshold}\")"
      ],
      "metadata": {
        "id": "m9qj6tE3pqZ0",
        "colab": {
          "base_uri": "https://localhost:8080/"
        },
        "outputId": "40250ca7-b360-4287-9ce5-f6fa6968e74f"
      },
      "execution_count": null,
      "outputs": [
        {
          "output_type": "stream",
          "name": "stdout",
          "text": [
            "Klasyfikator clf_1: Precyzja: 1.0, Recall: 0.7391304347826086, F1-score: 0.85\n",
            "Klasyfikator clf_2: Precyzja: 0.7377049180327869, Recall: 0.9782608695652174, F1-score: 0.8411214953271028\n"
          ]
        }
      ]
    },
    {
      "cell_type": "markdown",
      "source": [
        "### 2.4 Ustal optymalną wartość tresholdu dla której model osiąga największą wartość metryki F1.\n",
        "Jeśli zwiększamy treshold to model będzie mieć większą precyzje ale mniejszy recall (patrz zdanie 2.2). Sprawająć różne kombiacje tresholdu ustal taką wartość jego dla której metryk F1 jest największa"
      ],
      "metadata": {
        "id": "_PenCiJVqrK-"
      }
    },
    {
      "cell_type": "code",
      "source": [
        "y_pred_clf1_threshold_max = (y_proba_clf1[:, 1] >= 0.1).astype(int)\n",
        "y_pred_clf2_threshold_max = (y_proba_clf2[:, 1] >= 0.7).astype(int)\n",
        "\n",
        "f1_clf1_threshold_max = sk.f1_score(y_test, y_pred_clf1_threshold_max)\n",
        "\n",
        "f1_clf2_threshold_max = sk.f1_score(y_test, y_pred_clf2_threshold_max)\n",
        "\n",
        "print(f\"Klasyfikator clf_1: F1-score: {f1_clf1_threshold_max}\")\n",
        "print(f\"Klasyfikator clf_2: F1-score: {f1_clf2_threshold_max}\")"
      ],
      "metadata": {
        "id": "9mSAT8KYSdaT",
        "colab": {
          "base_uri": "https://localhost:8080/"
        },
        "outputId": "d9d9d3d0-1d91-4778-a665-d3c35fcd3ee8"
      },
      "execution_count": null,
      "outputs": [
        {
          "output_type": "stream",
          "name": "stdout",
          "text": [
            "Klasyfikator clf_1: F1-score: 0.8674698795180723\n",
            "Klasyfikator clf_2: F1-score: 0.8411214953271028\n"
          ]
        }
      ]
    },
    {
      "cell_type": "markdown",
      "source": [
        "## 3 Interpretacja wyników modelu"
      ],
      "metadata": {
        "id": "u59HKkpEsNVs"
      }
    },
    {
      "cell_type": "markdown",
      "source": [
        "Przenalizujmy parę scenariuszy w którch możemy wykorzystać modele.W każdym z tych scenariuszy jeden z klasyfikatorów (clf_1 lub clf_2) będzie bardziej odpowiedni w zależności od konkretnych wymagań i okolicznośc. Na podsawie wyników poprzednich zdań oceń kóry klasyfikator sprawdzi się lepiej. W kolejnych scenariuszach możemy na chwilę zapomieć o tym że model dotyczył raka piersi i skupić na innych zdaniach do którym miałby potecjalnie zostać wykorzystany model z takimi wynikami"
      ],
      "metadata": {
        "id": "w3gSK0-5sns2"
      }
    },
    {
      "cell_type": "markdown",
      "source": [
        "### 3.1 Nowa eksperymentalna terapia\n",
        "W pewnym szpitalu rozważają wprowadzanie modelu który bedzie przewidywać czy skierować pacjentów na nową eksperymentalną terapię. Ta terapia może potencjalnie ocalić życie pacjenta ale jest zwiazana z dyżym ryzykiem i powinny na nią trafić tylko osoby u których na pewno wykryto nowotwór złośliwy"
      ],
      "metadata": {
        "id": "7121qtQks1T6"
      }
    },
    {
      "cell_type": "markdown",
      "source": [
        "Odpowiedź: **clf_1**"
      ],
      "metadata": {
        "id": "kggbj0TctdQd"
      }
    },
    {
      "cell_type": "markdown",
      "source": [
        "### 3.2 Badania przesiewowe\n",
        "\n",
        "Ministersto zdrowia rozważa użycie modelu w badaniach przesiewowych które mają na celu wczesne wykrycie pewnej choroby w populacji i skierowanie osób na dodatkowe badania. Najważniejszym celem jest zidentyfikowanie jak największej liczby osób faktycznie chorujących. Skierowanie na dodatkowe badania osób które na nie trafić jest oczywiście nieporządane ale jest mniejszym problemem niż gdyby nie trafiła na nie osoba która powinna na nie trafić"
      ],
      "metadata": {
        "id": "_JtvPu9xtefO"
      }
    },
    {
      "cell_type": "markdown",
      "source": [
        "Odpowiedź: **clf_2**"
      ],
      "metadata": {
        "id": "sV5REOtZuk18"
      }
    },
    {
      "cell_type": "markdown",
      "source": [
        "### 3.3 Marketingowe kampanie e-mailowe\n",
        "\n",
        "Firma chce wysyłać promocyjne e-maile do potencjalnych klientów. Wysyłanie zbyt wielu e-maili do niezainteresowanych klientów może spowodować, że zostaną oni oznaczeni jako spam, co wpłynie na reputację firmy. Jednak przegapienie potencjalnego klienta nie jest tak kosztowne"
      ],
      "metadata": {
        "id": "BvTFeQvouhNE"
      }
    },
    {
      "cell_type": "markdown",
      "source": [
        "Odpowiedź: **clf_1**"
      ],
      "metadata": {
        "id": "g4QvFLi-umLz"
      }
    },
    {
      "cell_type": "markdown",
      "source": [
        "### 3.4 System monitorowania bezpieczeństwa\n",
        "\n",
        "Firma bezpieczeństwa chce monitorować transmisje wideo w poszukiwaniu podejrzanych zachowań. Chcą wykryć jak najwięcej potencjalnych zagrożeń, nawet jeśli oznacza to więcej fałszywych alarmów, które potem muszą ręcznie przeglądać operatorzy."
      ],
      "metadata": {
        "id": "q15wlHSRuXKD"
      }
    },
    {
      "cell_type": "markdown",
      "source": [
        "Odpowiedź: **clf_2**"
      ],
      "metadata": {
        "id": "POyJKiBduxpB"
      }
    },
    {
      "cell_type": "markdown",
      "source": [
        "### 3.5 : System rekomendacji filmów\n",
        "\n",
        "Serwis streamingowy chce rekomendować filmy użytkownikom na podstawie ich historii oglądania. W tym przypadku ważniejsze jest polecanie filmów, które użytkownik może lubić (nawet jeśli niektóre rekomendacje są nietrafione), niż pomijanie potencjalnie dobrych rekomendacji."
      ],
      "metadata": {
        "id": "GsF73im2urML"
      }
    },
    {
      "cell_type": "markdown",
      "source": [
        "Odpowiedź: **clf_2**"
      ],
      "metadata": {
        "id": "4lNVRkkluop5"
      }
    }
  ]
}