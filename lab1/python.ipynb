{
  "nbformat": 4,
  "nbformat_minor": 0,
  "metadata": {
    "colab": {
      "provenance": []
    },
    "kernelspec": {
      "name": "python3",
      "display_name": "Python 3"
    },
    "language_info": {
      "name": "python"
    }
  },
  "cells": [
    {
      "cell_type": "markdown",
      "source": [
        "# Matriały wstępne"
      ],
      "metadata": {
        "id": "R3ko17ATJ8v-"
      }
    },
    {
      "cell_type": "markdown",
      "source": [
        "## Instalacja pythona\n",
        "\n",
        "* https://realpython.com/installing-python/ - poradnik windows/linux/macos\n"
      ],
      "metadata": {
        "id": "_ezC5MmFJ_iN"
      }
    },
    {
      "cell_type": "markdown",
      "source": [
        "## Konfiguracja edytorów\n",
        "* https://code.visualstudio.com/docs/python/python-tutorial - VSCode (polecam)\n"
      ],
      "metadata": {
        "id": "8l3VP1QaKUuS"
      }
    },
    {
      "cell_type": "markdown",
      "source": [
        "# Wstęp"
      ],
      "metadata": {
        "id": "ZESGC57IK7Xz"
      }
    },
    {
      "cell_type": "markdown",
      "source": [
        "### Filozofia pythona"
      ],
      "metadata": {
        "id": "UEOQsfiRQArL"
      }
    },
    {
      "cell_type": "markdown",
      "source": [
        "Python to język programowania wysokiego poziomu stworzony na początku lat 90. przez Guido van Rossuma. Charakteryzuje się czytelną składnią, która promuje pisanie klarownego kodu. Jego filozofia jest zawarta w \"Zen of Python\", który można zobaczyć, używając komendy `import this`."
      ],
      "metadata": {
        "id": "TThrWtwiK-al"
      }
    },
    {
      "cell_type": "code",
      "source": [
        "import this"
      ],
      "metadata": {
        "colab": {
          "base_uri": "https://localhost:8080/"
        },
        "id": "xsUPUbmEK85n",
        "outputId": "6bf79729-c7fd-4590-bef9-5fa1f938e7dd"
      },
      "execution_count": null,
      "outputs": [
        {
          "output_type": "stream",
          "name": "stdout",
          "text": [
            "The Zen of Python, by Tim Peters\n",
            "\n",
            "Beautiful is better than ugly.\n",
            "Explicit is better than implicit.\n",
            "Simple is better than complex.\n",
            "Complex is better than complicated.\n",
            "Flat is better than nested.\n",
            "Sparse is better than dense.\n",
            "Readability counts.\n",
            "Special cases aren't special enough to break the rules.\n",
            "Although practicality beats purity.\n",
            "Errors should never pass silently.\n",
            "Unless explicitly silenced.\n",
            "In the face of ambiguity, refuse the temptation to guess.\n",
            "There should be one-- and preferably only one --obvious way to do it.\n",
            "Although that way may not be obvious at first unless you're Dutch.\n",
            "Now is better than never.\n",
            "Although never is often better than *right* now.\n",
            "If the implementation is hard to explain, it's a bad idea.\n",
            "If the implementation is easy to explain, it may be a good idea.\n",
            "Namespaces are one honking great idea -- let's do more of those!\n"
          ]
        }
      ]
    },
    {
      "cell_type": "markdown",
      "source": [
        "Warto nie tylko programować ale i żyć według tych zasad 🙂"
      ],
      "metadata": {
        "id": "bAoSVG4dLVnH"
      }
    },
    {
      "cell_type": "markdown",
      "source": [
        "### Przykładowy kod"
      ],
      "metadata": {
        "id": "OGHp4Bz5P8k_"
      }
    },
    {
      "cell_type": "markdown",
      "source": [
        "\n",
        "Tradycją w nauce nowego języka programowania jest napisanie programu \"Hello, World!\""
      ],
      "metadata": {
        "id": "spFqRF4bLkiI"
      }
    },
    {
      "cell_type": "code",
      "execution_count": null,
      "metadata": {
        "colab": {
          "base_uri": "https://localhost:8080/"
        },
        "id": "j5Y6pC_OHVtY",
        "outputId": "e85c5dfc-fe39-494f-bf5b-a07f47ff3ff0"
      },
      "outputs": [
        {
          "output_type": "stream",
          "name": "stdout",
          "text": [
            "Hello, World!\n"
          ]
        }
      ],
      "source": [
        "print(\"Hello, World!\")"
      ]
    },
    {
      "cell_type": "markdown",
      "source": [
        "W pythonie do wypisania informacji do konsoli używamy fukcji `print()`"
      ],
      "metadata": {
        "id": "5eki14Q4LsUZ"
      }
    },
    {
      "cell_type": "markdown",
      "source": [
        "### Cechy pythona"
      ],
      "metadata": {
        "id": "OpROBr_tP3qy"
      }
    },
    {
      "cell_type": "markdown",
      "source": [
        "Python jest językiem interpretowalnym, co oznacza, że kod źródłowy jest wykonywany linia po linii w czasie rzeczywistym przez interpreter, zamiast być najpierw kompilowany do kodu maszynowego, jak ma to miejsce w przypadku języków kompilowanych.\n",
        "\n",
        "Oto główne cechy i konsekwencje faktu, że Python jest językiem interpretowalnym:\n",
        "\n",
        "1. **Bezpośrednia interakcja:** Możesz używać Pythona w trybie interaktywnym (np. poprzez konsolę Pythona lub Jupyter Notebook), wprowadzając i uruchamiając kod linia po linii.\n",
        "\n",
        "2. **Łatwość rozwoju**: Brak etapu kompilacji sprawia, że cykl pisania-testowania-debugowania jest szybki, co jest korzystne podczas rozwijania i prototypowania.\n",
        "\n",
        "3. **Przenośność**: Kod Pythona (w teorii) powinien działać na każdej platformie, na której jest dostępny interpreter Pythona, bez konieczności modyfikacji. Oznacza to, że ten sam kod źródłowy może być uruchamiany na różnych systemach operacyjnych bez konieczności kompilacji dla każdego z nich osobno.\n",
        "\n",
        "4. **Wydajność**: Języki interpretowalne zazwyczaj działają wolniej niż języki kompilowane, ponieważ kod jest analizowany i wykonywany w czasie rzeczywistym. Ale na szczęście nie bardzo nas to obchodzi bo przy pracy z modelami uczenia maszynowego będziemy korzytać z bibliotek które napisane są w C albo wykorztują techniki takie jak jak JIT (Just-In-Time compilation)\n",
        "![image.png](data:image/png;base64,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)\n"
      ],
      "metadata": {
        "id": "yMaPAFMALyCD"
      }
    },
    {
      "cell_type": "markdown",
      "source": [
        "### Google colab"
      ],
      "metadata": {
        "id": "_F9xYSnqP02-"
      }
    },
    {
      "cell_type": "markdown",
      "source": [
        "Korzystając właśnie z tego że python jest interpretowalny możemy skorzystać z narzędzi takich jak Google Colab (na który właśnie patrzycie) gdzie możemy wynonywać kod komórka po komórce.\n",
        "\n",
        "Wszyskie zmienne z poprzednich komórek będą zapisane w pamięci i dostępne w następnych komórkach.\n",
        "\n",
        "Dodatkowo Google Cloab pozwala nam odpalić kod bezpośrednio w przeglądarce, co sprawia że nie musimy przejmować się konfigurowaniem środowiska lokalnie.\n",
        "\n",
        "Daje nam on też dostęp do GPU (ale o tym później)\n",
        "\n",
        "Aby uruchomić komórkę możemy kliknąć po przycisk po lewej stronie albo klinąć `crl+enter`"
      ],
      "metadata": {
        "id": "mDa6_YcpOaoj"
      }
    },
    {
      "cell_type": "markdown",
      "source": [
        "![image.png](data:image/png;base64,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)"
      ],
      "metadata": {
        "id": "KZrJ0wJxPkDp"
      }
    },
    {
      "cell_type": "markdown",
      "source": [
        "Spróbuj sam!"
      ],
      "metadata": {
        "id": "gHjOwP2RPs2y"
      }
    },
    {
      "cell_type": "code",
      "source": [
        "a = 3"
      ],
      "metadata": {
        "id": "43ru-wyQLrnC"
      },
      "execution_count": null,
      "outputs": []
    },
    {
      "cell_type": "code",
      "source": [
        "print(a)"
      ],
      "metadata": {
        "colab": {
          "base_uri": "https://localhost:8080/"
        },
        "id": "c-c5GEGbPXDv",
        "outputId": "ebc6f375-7f58-4db6-c227-0da76dd409d5"
      },
      "execution_count": null,
      "outputs": [
        {
          "output_type": "stream",
          "name": "stdout",
          "text": [
            "3\n"
          ]
        }
      ]
    },
    {
      "cell_type": "markdown",
      "source": [
        "# Podstawy składni i struktury języka Python"
      ],
      "metadata": {
        "id": "vRBqUM7iQaW-"
      }
    },
    {
      "cell_type": "markdown",
      "source": [
        "## Zmienne i typy danych (int, float, string, bool)"
      ],
      "metadata": {
        "id": "zDiX4wp3Qdnl"
      }
    },
    {
      "cell_type": "markdown",
      "source": [
        "W Pythonie zmienne nie wymagają deklaracji typu danych - typ jest determinowany w momencie przypisania wartości. Główne typy danych to liczby całkowite (int), liczby zmiennoprzecinkowe (float), łańcuchy znaków (string) oraz wartości logiczne (bool)."
      ],
      "metadata": {
        "id": "PmL1rTrJQglu"
      }
    },
    {
      "cell_type": "code",
      "source": [
        "x = 10  # int\n",
        "y = 20.5  # float\n",
        "name = \"Anna\"  # string\n",
        "is_pies = False  # bool"
      ],
      "metadata": {
        "id": "PRgmqlRxPXt4"
      },
      "execution_count": null,
      "outputs": []
    },
    {
      "cell_type": "markdown",
      "source": [
        "## Operacje matematyczne i logiczne"
      ],
      "metadata": {
        "id": "uwDfrLmlQoHz"
      }
    },
    {
      "cell_type": "markdown",
      "source": [
        "Python obsługuje różne operacje matematyczne, takie jak dodawanie, odejmowanie czy mnożenie. Operacje logiczne, takie jak `and`, `or` i `not`, są używane do wykonywania operacji na wartościach logicznych."
      ],
      "metadata": {
        "id": "afGe2hzVQrat"
      }
    },
    {
      "cell_type": "code",
      "source": [
        "a = 5 + 3  # 8\n",
        "b = 5 - 3  # 2\n",
        "c = 5 * 3  # 15\n",
        "d = 8 / 4  # 2.0\n",
        "\n",
        "prawda = True\n",
        "falsz = False\n",
        "wynik = prawda and falsz  # False"
      ],
      "metadata": {
        "id": "xeHSnC5_QkEj"
      },
      "execution_count": null,
      "outputs": []
    },
    {
      "cell_type": "code",
      "source": [
        "wynik"
      ],
      "metadata": {
        "colab": {
          "base_uri": "https://localhost:8080/"
        },
        "id": "Bs-Amou0QzlE",
        "outputId": "fa2b02b5-a11a-446c-d0bb-dd0c8f032930"
      },
      "execution_count": null,
      "outputs": [
        {
          "output_type": "execute_result",
          "data": {
            "text/plain": [
              "False"
            ]
          },
          "metadata": {},
          "execution_count": 8
        }
      ]
    },
    {
      "cell_type": "markdown",
      "source": [
        "## Struktury danych"
      ],
      "metadata": {
        "id": "TGrbDK5VROrI"
      }
    },
    {
      "cell_type": "markdown",
      "source": [
        "### Lista"
      ],
      "metadata": {
        "id": "FrLrJiHLRRmx"
      }
    },
    {
      "cell_type": "markdown",
      "source": [
        "Lista to uporządkowana kolekcja elementów. Elementy w liście mogą się powtarzać, a ich kolejność jest ważna.\n",
        "\n",
        "**Mutowalność**: Listy są mutowalne, co oznacza, że możemy modyfikować ich zawartość po ich stworzeniu.\n",
        "\n",
        "**Składnia**: Listy są otoczone nawiasami kwadratowymi `[]`."
      ],
      "metadata": {
        "id": "3mq4Bz8fRVOt"
      }
    },
    {
      "cell_type": "code",
      "source": [
        "lista = [1, 2, 3, 4, 2]\n",
        "lista[2] = 99  # Zmieniamy trzeci element listy"
      ],
      "metadata": {
        "id": "dZ0A6U52Qyjh"
      },
      "execution_count": null,
      "outputs": []
    },
    {
      "cell_type": "markdown",
      "source": [
        "W pytnie index `-1` oznacza ostani element `-2` przedostani itd"
      ],
      "metadata": {
        "id": "4xIrecrqRiCr"
      }
    },
    {
      "cell_type": "code",
      "source": [
        "lista[-1] #ostatni element"
      ],
      "metadata": {
        "colab": {
          "base_uri": "https://localhost:8080/"
        },
        "id": "EsY7EN-3ReZz",
        "outputId": "76f77a9a-22e2-434f-b8f9-f0d5731d3aab"
      },
      "execution_count": null,
      "outputs": [
        {
          "output_type": "execute_result",
          "data": {
            "text/plain": [
              "2"
            ]
          },
          "metadata": {},
          "execution_count": 10
        }
      ]
    },
    {
      "cell_type": "markdown",
      "source": [
        "Możemy wyświetlić fragment listy używjąc składni `[początek:koniec]`"
      ],
      "metadata": {
        "id": "vqtTJqIrRpng"
      }
    },
    {
      "cell_type": "code",
      "source": [
        "lista[1:3]"
      ],
      "metadata": {
        "colab": {
          "base_uri": "https://localhost:8080/"
        },
        "id": "7_QAkWJZRg6m",
        "outputId": "0cdc36fd-7a5d-4834-8305-a7bd4d6c5b35"
      },
      "execution_count": null,
      "outputs": [
        {
          "output_type": "execute_result",
          "data": {
            "text/plain": [
              "[2, 99]"
            ]
          },
          "metadata": {},
          "execution_count": 11
        }
      ]
    },
    {
      "cell_type": "code",
      "source": [
        "lista[:3] #od początku do 3ciego elementu (nie włącznie)"
      ],
      "metadata": {
        "colab": {
          "base_uri": "https://localhost:8080/"
        },
        "id": "qaEGbq-9RydI",
        "outputId": "665adbbc-412f-4337-cc35-88085cec2e6d"
      },
      "execution_count": null,
      "outputs": [
        {
          "output_type": "execute_result",
          "data": {
            "text/plain": [
              "[1, 2, 99]"
            ]
          },
          "metadata": {},
          "execution_count": 16
        }
      ]
    },
    {
      "cell_type": "code",
      "source": [
        "lista[3:] #od 3ciego elementu (włącznie) do końca"
      ],
      "metadata": {
        "colab": {
          "base_uri": "https://localhost:8080/"
        },
        "id": "8wxXF2KuR0Oj",
        "outputId": "c1690b81-bcb4-40ee-d3a8-d283aab86c38"
      },
      "execution_count": null,
      "outputs": [
        {
          "output_type": "execute_result",
          "data": {
            "text/plain": [
              "[4, 2]"
            ]
          },
          "metadata": {},
          "execution_count": 17
        }
      ]
    },
    {
      "cell_type": "markdown",
      "source": [
        "### Tuple (Krotka)"
      ],
      "metadata": {
        "id": "62HL2nkzSECq"
      }
    },
    {
      "cell_type": "markdown",
      "source": [
        "Krotka to uporządkowana kolekcja elementów, podobna do listy. Jednakże, w przeciwieństwie do list, krotki są niemutowalne.\n",
        "\n",
        "**Mutowalność**: Krotki są niemutowalne - po ich stworzeniu nie możemy zmieniać ich zawartości.\n",
        "\n",
        "**Składnia**: Krotki są otoczone nawiasami `()`.\n"
      ],
      "metadata": {
        "id": "wjkzmeDzUKo9"
      }
    },
    {
      "cell_type": "code",
      "source": [
        "t = (1, 2, 3, 4, 2)"
      ],
      "metadata": {
        "id": "NvexTgH1R_Wj"
      },
      "execution_count": null,
      "outputs": []
    },
    {
      "cell_type": "code",
      "source": [
        "t[2] = 99  # Błąd! Nie możemy zmienić elementu tupli"
      ],
      "metadata": {
        "colab": {
          "base_uri": "https://localhost:8080/",
          "height": 179
        },
        "id": "EJw8EEOTUWre",
        "outputId": "6bb16c06-2778-423f-9bb6-8f8bca2a7a90"
      },
      "execution_count": null,
      "outputs": [
        {
          "output_type": "error",
          "ename": "TypeError",
          "evalue": "ignored",
          "traceback": [
            "\u001b[0;31m---------------------------------------------------------------------------\u001b[0m",
            "\u001b[0;31mTypeError\u001b[0m                                 Traceback (most recent call last)",
            "\u001b[0;32m<ipython-input-21-b074ba570ff3>\u001b[0m in \u001b[0;36m<cell line: 1>\u001b[0;34m()\u001b[0m\n\u001b[0;32m----> 1\u001b[0;31m \u001b[0mt\u001b[0m\u001b[0;34m[\u001b[0m\u001b[0;36m2\u001b[0m\u001b[0;34m]\u001b[0m \u001b[0;34m=\u001b[0m \u001b[0;36m99\u001b[0m  \u001b[0;31m# Błąd! Nie możemy zmienić elementu tupli\u001b[0m\u001b[0;34m\u001b[0m\u001b[0;34m\u001b[0m\u001b[0m\n\u001b[0m",
            "\u001b[0;31mTypeError\u001b[0m: 'tuple' object does not support item assignment"
          ]
        }
      ]
    },
    {
      "cell_type": "markdown",
      "source": [
        "### Zbior (set)"
      ],
      "metadata": {
        "id": "P-YOOK2OUcs1"
      }
    },
    {
      "cell_type": "markdown",
      "source": [
        "Zbiór to nieuporządkowana kolekcja unikalnych elementów. Elementy w zbiorze nie mogą się powtarzać.\n",
        "\n",
        "**Mutowalność:** Zbiory są mutowalne, ale ponieważ zawierają tylko unikalne wartości, dodanie już istniejącego elementu nie wpłynie na zbiór.\n",
        "\n",
        "\n",
        "**Składnia**: Zbiory są otoczone nawiasami `{}`."
      ],
      "metadata": {
        "id": "ujPASO8cUf0I"
      }
    },
    {
      "cell_type": "code",
      "source": [
        "zbior = {1, 2, 3, 4, 2}  # Zbiór będzie zawierał tylko {1, 2, 3, 4}\n",
        "zbior.add(5)  # Dodajemy element do zbioru\n"
      ],
      "metadata": {
        "id": "AV3BRUUwUWVT"
      },
      "execution_count": null,
      "outputs": []
    },
    {
      "cell_type": "markdown",
      "source": [
        "### Słownik"
      ],
      "metadata": {
        "id": "UoQ2D1eVVBSi"
      }
    },
    {
      "cell_type": "markdown",
      "source": [
        "Słownik to nieuporządkowana kolekcja par klucz-wartość. Klucze w słowniku muszą być unikalne.\n",
        "\n",
        "**Mutowalność**: Słowniki są mutowalne, możemy dodawać, modyfikować i usuwać pary klucz-wartość.\n",
        "\n",
        "**Składnia**: Słowniki są otoczone nawiasami `{}` i używają par klucz: wartość.\n"
      ],
      "metadata": {
        "id": "qYtTATSQVErH"
      }
    },
    {
      "cell_type": "code",
      "source": [
        "slownik = {\"klucz\": \"wartość\", \"imie\": \"Anna\"}\n",
        "slownik[\"wiek\"] = 30  # Dodajemy nową parę klucz-wartość\n",
        "slownik[\"imie\"] = \"Jan\"  # Modyfikujemy istniejący klucz\n"
      ],
      "metadata": {
        "id": "C4jHWaUrU-W_"
      },
      "execution_count": null,
      "outputs": []
    },
    {
      "cell_type": "code",
      "source": [
        "slownik[\"wiek\"]"
      ],
      "metadata": {
        "colab": {
          "base_uri": "https://localhost:8080/"
        },
        "id": "dwQEImbrVMwg",
        "outputId": "d9e983d0-8c8b-44a3-ae37-d3044d91535d"
      },
      "execution_count": null,
      "outputs": [
        {
          "output_type": "execute_result",
          "data": {
            "text/plain": [
              "30"
            ]
          },
          "metadata": {},
          "execution_count": 24
        }
      ]
    },
    {
      "cell_type": "markdown",
      "source": [
        "## instrukcje sterujące: if, elif, else"
      ],
      "metadata": {
        "id": "7R8jZYhIVciX"
      }
    },
    {
      "cell_type": "markdown",
      "source": [
        "Instrukcje sterujące pozwalają na wykonywanie różnych bloków kodu w zależności od spełnienia określonych warunków. W pythonie kod wewnątrz waruku jest odzielony przez wcięcia"
      ],
      "metadata": {
        "id": "djfeA8GzVgkp"
      }
    },
    {
      "cell_type": "code",
      "source": [
        "wiek = 18\n",
        "if wiek < 18:\n",
        "    print(\"Niepełnoletni\")\n",
        "elif wiek == 18:\n",
        "    print(\"Dokładnie 18 lat!\")\n",
        "else:\n",
        "    print(\"Pełnoletni\")\n"
      ],
      "metadata": {
        "colab": {
          "base_uri": "https://localhost:8080/"
        },
        "id": "hEZigL24VRbj",
        "outputId": "4e1adf87-ad80-4f6f-bccc-4c22e8fc3eff"
      },
      "execution_count": null,
      "outputs": [
        {
          "output_type": "stream",
          "name": "stdout",
          "text": [
            "Dokładnie 18 lat!\n"
          ]
        }
      ]
    },
    {
      "cell_type": "markdown",
      "source": [
        "# Pętle i iteracje w Pythonie"
      ],
      "metadata": {
        "id": "EYpQUNT-G7QD"
      }
    },
    {
      "cell_type": "markdown",
      "source": [
        "Pętle to jedno z podstawowych narzędzi w programowaniu, które pozwalają na wielokrotne wykonanie określonego bloku kodu. W Pythonie mamy głównie dwie pętle: `for` i `while`. Umożliwiają one iterację przez różne obiekty, takie jak listy, krotki, słowniki czy ciągi znaków, oraz wykonanie operacji dla każdego elementu."
      ],
      "metadata": {
        "id": "fbsYAer_HBmc"
      }
    },
    {
      "cell_type": "markdown",
      "source": [
        "## Pętla for"
      ],
      "metadata": {
        "id": "aUMjJtIKG_MB"
      }
    },
    {
      "cell_type": "markdown",
      "source": [
        "Pętla for w Pythonie jest używana do iteracji przez sekwencje (listy, krotki, słowniki, ciągi znaków). Różni się od tradycyjnych pętli for w innych językach i jest bardziej zbliżona do iteratora."
      ],
      "metadata": {
        "id": "YCOaAZBRHLEC"
      }
    },
    {
      "cell_type": "code",
      "source": [
        "# Iteracja przez listę\n",
        "for liczba in [1, 2, 3, 4]:\n",
        "    print(liczba)\n",
        "\n",
        "# Iteracja przez ciąg znaków\n",
        "for litera in \"Python\":\n",
        "    print(litera)"
      ],
      "metadata": {
        "colab": {
          "base_uri": "https://localhost:8080/"
        },
        "id": "yQYQ4FeLHKyN",
        "outputId": "f14797e4-8d2a-4a63-f6b6-900d5ce7e6cc"
      },
      "execution_count": null,
      "outputs": [
        {
          "output_type": "stream",
          "name": "stdout",
          "text": [
            "1\n",
            "2\n",
            "3\n",
            "4\n",
            "P\n",
            "y\n",
            "t\n",
            "h\n",
            "o\n",
            "n\n"
          ]
        }
      ]
    },
    {
      "cell_type": "markdown",
      "source": [
        "## Funkcja range()"
      ],
      "metadata": {
        "id": "vJ6YNABOHQ9c"
      }
    },
    {
      "cell_type": "markdown",
      "source": [
        "Funkcja range() jest często używana z pętlą for do generowania sekwencji liczb po których możemy iterować."
      ],
      "metadata": {
        "id": "BBmMZ10mHUgX"
      }
    },
    {
      "cell_type": "code",
      "source": [
        "# Wygeneruj pętlę od 0 do 4\n",
        "for i in range(5):\n",
        "    print(i)\n",
        "\n",
        "# Wygeneruj pętlę od 2 do 9 co 2 kroki\n",
        "for i in range(2, 10, 2):\n",
        "    print(i)\n"
      ],
      "metadata": {
        "colab": {
          "base_uri": "https://localhost:8080/"
        },
        "id": "5S2-Ev_PVq-b",
        "outputId": "06439164-b2b7-46d3-e7ab-41dcb595e51e"
      },
      "execution_count": null,
      "outputs": [
        {
          "output_type": "stream",
          "name": "stdout",
          "text": [
            "0\n",
            "1\n",
            "2\n",
            "3\n",
            "4\n",
            "2\n",
            "4\n",
            "6\n",
            "8\n"
          ]
        }
      ]
    },
    {
      "cell_type": "markdown",
      "source": [
        "## Pętla while"
      ],
      "metadata": {
        "id": "PltNtadwHci3"
      }
    },
    {
      "cell_type": "markdown",
      "source": [
        "Pętla `while` pozwala na wykonywanie bloku kodu tak długo, jak spełniony jest określony warunek.\n",
        "\n"
      ],
      "metadata": {
        "id": "1FkvV3a0HhPd"
      }
    },
    {
      "cell_type": "code",
      "source": [
        "licznik = 0\n",
        "while licznik < 5:\n",
        "    print(licznik)\n",
        "    licznik += 1\n"
      ],
      "metadata": {
        "colab": {
          "base_uri": "https://localhost:8080/"
        },
        "id": "WOEcPUWUHYFO",
        "outputId": "9488ddd6-40ed-4deb-bf68-7f2b0c7e387f"
      },
      "execution_count": null,
      "outputs": [
        {
          "output_type": "stream",
          "name": "stdout",
          "text": [
            "0\n",
            "1\n",
            "2\n",
            "3\n",
            "4\n"
          ]
        }
      ]
    },
    {
      "cell_type": "markdown",
      "source": [
        "## Instrukcje kontrolne pętli: break, continue i else"
      ],
      "metadata": {
        "id": "gmO4DkEYHmWi"
      }
    },
    {
      "cell_type": "markdown",
      "source": [
        "`break`: pozwala na wyjście z pętli przed jej naturalnym zakończeniem.\n",
        "\n",
        "`continue`: pomija aktualną iterację pętli i przechodzi do następnej.\n",
        "\n",
        "`else`: blok kodu po pętli, który jest wykonywany po zakończeniu pętli (o ile nie została przerwana przez break)."
      ],
      "metadata": {
        "id": "uHL_gsHNHpw3"
      }
    },
    {
      "cell_type": "code",
      "source": [
        "# Używanie break\n",
        "for liczba in range(5):\n",
        "    if liczba == 3:\n",
        "        break\n",
        "    print(liczba)\n"
      ],
      "metadata": {
        "colab": {
          "base_uri": "https://localhost:8080/"
        },
        "id": "KJQD9JukHw5T",
        "outputId": "250cd324-22a5-47b6-ec42-f7e0edbff8b5"
      },
      "execution_count": null,
      "outputs": [
        {
          "output_type": "stream",
          "name": "stdout",
          "text": [
            "0\n",
            "1\n",
            "2\n"
          ]
        }
      ]
    },
    {
      "cell_type": "code",
      "source": [
        "# Używanie continue\n",
        "for liczba in range(5):\n",
        "    if liczba == 2:\n",
        "        continue\n",
        "    print(liczba)\n"
      ],
      "metadata": {
        "colab": {
          "base_uri": "https://localhost:8080/"
        },
        "id": "oplMxLHIHyaY",
        "outputId": "b628f422-8f18-449e-deaf-6c6ad2ad5471"
      },
      "execution_count": null,
      "outputs": [
        {
          "output_type": "stream",
          "name": "stdout",
          "text": [
            "0\n",
            "1\n",
            "3\n",
            "4\n"
          ]
        }
      ]
    },
    {
      "cell_type": "code",
      "source": [
        "# Używanie else\n",
        "for liczba in range(5):\n",
        "    print(liczba)\n",
        "else:\n",
        "    print(\"Pętla zakończona!\")\n"
      ],
      "metadata": {
        "colab": {
          "base_uri": "https://localhost:8080/"
        },
        "id": "fYafitxdHz0Y",
        "outputId": "99bc421e-85f6-4786-b260-50ed7497da1c"
      },
      "execution_count": null,
      "outputs": [
        {
          "output_type": "stream",
          "name": "stdout",
          "text": [
            "0\n",
            "1\n",
            "2\n",
            "3\n",
            "4\n",
            "Pętla zakończona!\n"
          ]
        }
      ]
    },
    {
      "cell_type": "markdown",
      "source": [
        "# Funkcje"
      ],
      "metadata": {
        "id": "tzIFsrsLIFPL"
      }
    },
    {
      "cell_type": "markdown",
      "source": [
        "Aby zdefiniować funkcję w Pythonie, używa się słowa kluczowego `def`."
      ],
      "metadata": {
        "id": "9a8wiMiZIJeW"
      }
    },
    {
      "cell_type": "code",
      "source": [
        "def witaj():\n",
        "    print(\"Witaj w Pythonie!\")\n",
        "\n",
        "# Wywoływanie funkcji\n",
        "witaj()"
      ],
      "metadata": {
        "colab": {
          "base_uri": "https://localhost:8080/"
        },
        "id": "z5Ohsa0yIF-X",
        "outputId": "6fbc62f4-e80f-434e-d89b-d34efa17a00e"
      },
      "execution_count": null,
      "outputs": [
        {
          "output_type": "stream",
          "name": "stdout",
          "text": [
            "Witaj w Pythonie!\n"
          ]
        }
      ]
    },
    {
      "cell_type": "markdown",
      "source": [
        "## Argumenty i wartości zwrotne"
      ],
      "metadata": {
        "id": "1TX6UnufIhS_"
      }
    },
    {
      "cell_type": "code",
      "source": [
        "# Funkcja z argumentami\n",
        "def dodaj(a, b):\n",
        "    return a + b\n",
        "\n",
        "# Wywoływanie funkcji z argumentami\n",
        "wynik = dodaj(5, 3)\n",
        "print(wynik)  # 8\n"
      ],
      "metadata": {
        "colab": {
          "base_uri": "https://localhost:8080/"
        },
        "id": "vySfLd7fIO4y",
        "outputId": "12d0d774-d306-449b-8673-dcb20d60bd93"
      },
      "execution_count": null,
      "outputs": [
        {
          "output_type": "stream",
          "name": "stdout",
          "text": [
            "8\n"
          ]
        }
      ]
    },
    {
      "cell_type": "markdown",
      "source": [
        "W Pythonie, podczas przekazywania argumentów do funkcji, możemy używać zarówno argumentów pozycyjnych (positional arguments), jak i argumentów kluczowych (keyword arguments). Obie te metody mają swoje zastosowania i różnice:"
      ],
      "metadata": {
        "id": "NoG94AYrIrrK"
      }
    },
    {
      "cell_type": "markdown",
      "source": [
        "### Argumenty pozycyjne (Positional Arguments):"
      ],
      "metadata": {
        "id": "N4jilPSkIt7N"
      }
    },
    {
      "cell_type": "markdown",
      "source": [
        "Argumenty pozycyjne są przekazywane do funkcji w dokładnie takiej kolejności, w jakiej są one zdefiniowane.\n",
        "\n",
        "Kolejność przekazywania argumentów jest ważna. Pierwszy argument w liście argumentów funkcji zostanie przypisany do pierwszego parametru funkcji, drugi argument do drugiego parametru itd."
      ],
      "metadata": {
        "id": "dmzpAGCnIysB"
      }
    },
    {
      "cell_type": "code",
      "source": [
        "def funkcja(a, b, c):\n",
        "    print(a, b, c)\n",
        "\n",
        "funkcja(1, 2, 3)  # Wypisze: 1 2 3"
      ],
      "metadata": {
        "colab": {
          "base_uri": "https://localhost:8080/"
        },
        "id": "ssjzZjbyIrUT",
        "outputId": "12495c25-e743-486d-d793-86fc9f1e3ade"
      },
      "execution_count": null,
      "outputs": [
        {
          "output_type": "stream",
          "name": "stdout",
          "text": [
            "1 2 3\n"
          ]
        }
      ]
    },
    {
      "cell_type": "markdown",
      "source": [
        "### Argumenty kluczowe (Keyword Arguments):"
      ],
      "metadata": {
        "id": "PnDeqDhAI5Zc"
      }
    },
    {
      "cell_type": "markdown",
      "source": [
        "Argumenty kluczowe są przekazywane do funkcji poprzez jawną identyfikację nazwy parametru, z którym powinny być powiązane.\n",
        "\n",
        "Dzięki temu, kolejność argumentów kluczowych nie ma znaczenia, ponieważ są one przypisywane przez nazwę, a nie przez pozycję."
      ],
      "metadata": {
        "id": "zYU72X-BI9Yc"
      }
    },
    {
      "cell_type": "code",
      "source": [
        "def funkcja(a, b, c):\n",
        "    print(a, b, c)\n",
        "\n",
        "funkcja(b=2, c=3, a=1)  # Wypisze: 1 2 3"
      ],
      "metadata": {
        "colab": {
          "base_uri": "https://localhost:8080/"
        },
        "id": "Fm5zg3wzIkn3",
        "outputId": "49042a4d-65d3-47f4-90ea-a9289991e110"
      },
      "execution_count": null,
      "outputs": [
        {
          "output_type": "stream",
          "name": "stdout",
          "text": [
            "1 2 3\n"
          ]
        }
      ]
    },
    {
      "cell_type": "markdown",
      "source": [
        "### Argumenty domyślne"
      ],
      "metadata": {
        "id": "nZlhmNl7JIwt"
      }
    },
    {
      "cell_type": "markdown",
      "source": [
        "Python pozwala na definiowanie wartości domyślnych dla argumentów"
      ],
      "metadata": {
        "id": "v1aukzu2JTC-"
      }
    },
    {
      "cell_type": "code",
      "source": [
        "# Funkcja z argumentami domyślnymi\n",
        "def informacje(imie, wiek=30):\n",
        "    print(f\"Imię: {imie}, Wiek: {wiek}\")\n",
        "\n",
        "informacje(\"Anna\")  # Imię: Anna, Wiek: 30\n",
        "informacje(\"Jan\", 25)  # Imię: Jan, Wiek: 25\n",
        "informacje(imie=\"Adam\", wiek=40)  # Imię: Adam, Wiek: 40"
      ],
      "metadata": {
        "colab": {
          "base_uri": "https://localhost:8080/"
        },
        "id": "PU3gEc10JDOo",
        "outputId": "6ea82b43-41c1-4768-f1bf-c8b0a5e293cf"
      },
      "execution_count": null,
      "outputs": [
        {
          "output_type": "stream",
          "name": "stdout",
          "text": [
            "Imię: Anna, Wiek: 30\n",
            "Imię: Jan, Wiek: 25\n",
            "Imię: Adam, Wiek: 40\n"
          ]
        }
      ]
    },
    {
      "cell_type": "markdown",
      "source": [
        "Argumenty domyślne muszą znajdować się na końcu"
      ],
      "metadata": {
        "id": "x18Rp4xqJaJO"
      }
    },
    {
      "cell_type": "code",
      "source": [
        "def funkcja(a = 1, b):\n",
        "  print(a)"
      ],
      "metadata": {
        "colab": {
          "base_uri": "https://localhost:8080/",
          "height": 143
        },
        "id": "fJCJoHcpJY_m",
        "outputId": "06d4ab37-24fd-41b2-bf22-5e867a5cc776"
      },
      "execution_count": null,
      "outputs": [
        {
          "output_type": "error",
          "ename": "SyntaxError",
          "evalue": "ignored",
          "traceback": [
            "\u001b[0;36m  File \u001b[0;32m\"<ipython-input-37-d43357dd766f>\"\u001b[0;36m, line \u001b[0;32m1\u001b[0m\n\u001b[0;31m    def funkcja(a = 1, b):\u001b[0m\n\u001b[0m                       ^\u001b[0m\n\u001b[0;31mSyntaxError\u001b[0m\u001b[0;31m:\u001b[0m non-default argument follows default argument\n"
          ]
        }
      ]
    },
    {
      "cell_type": "markdown",
      "source": [
        "# Moduły"
      ],
      "metadata": {
        "id": "vQ3TdTc-JqEz"
      }
    },
    {
      "cell_type": "markdown",
      "source": [
        "Moduły to zewnętrzne biblioteki funkcji i klasy, które można zaimportować do swojego programu. Python posiada wiele wbudowanych modułów, ale można też tworzyć własne lub korzystać z modułów dostarczanych przez społeczność."
      ],
      "metadata": {
        "id": "dE41coeEJvRw"
      }
    },
    {
      "cell_type": "code",
      "source": [
        "# Importowanie całego modułu\n",
        "import math\n",
        "print(math.sqrt(16))  # 4.0\n",
        "\n",
        "# Importowanie konkretnych funkcji z modułu\n",
        "from math import sqrt\n",
        "print(sqrt(25))  # 5.0\n"
      ],
      "metadata": {
        "colab": {
          "base_uri": "https://localhost:8080/"
        },
        "id": "5k8Bolq7JulO",
        "outputId": "06b55d1b-1ce0-41ce-82b2-6ca9b9d3466a"
      },
      "execution_count": null,
      "outputs": [
        {
          "output_type": "stream",
          "name": "stdout",
          "text": [
            "4.0\n",
            "5.0\n"
          ]
        }
      ]
    },
    {
      "cell_type": "markdown",
      "source": [
        "## Pliki jako moduły"
      ],
      "metadata": {
        "id": "OOfcdhY3JzOK"
      }
    },
    {
      "cell_type": "markdown",
      "source": [
        "\n",
        "W Pythonie każdy plik z rozszerzeniem `.py` może zostać użyty jako moduł. Można importować funkcje i klasy z innych plików do swojego programu.\n",
        "\n",
        "\n",
        "Załóżmy, że mamy plik `przykladowy_modul.py` z następującą zawartością:"
      ],
      "metadata": {
        "id": "dRSE4T5tJ8CJ"
      }
    },
    {
      "cell_type": "code",
      "source": [
        "%%writefile przykladowy_modul.py\n",
        "\n",
        "def pokaz_tekst():\n",
        "    print(\"Tekst z przykladowy_modul.py\")\n"
      ],
      "metadata": {
        "colab": {
          "base_uri": "https://localhost:8080/"
        },
        "id": "swvnwb5mJ7VT",
        "outputId": "6fe49b1a-f4e2-4a4a-95a5-15de354e4f7d"
      },
      "execution_count": null,
      "outputs": [
        {
          "output_type": "stream",
          "name": "stdout",
          "text": [
            "Writing przykladowy_modul.py\n"
          ]
        }
      ]
    },
    {
      "cell_type": "code",
      "source": [
        "from przykladowy_modul import pokaz_tekst\n",
        "\n",
        "pokaz_tekst()  # Tekst z przykladowy_modul.py\n"
      ],
      "metadata": {
        "colab": {
          "base_uri": "https://localhost:8080/"
        },
        "id": "by7E4fkyJhDm",
        "outputId": "00a31772-9fa7-4e94-fa4a-6c18edcfbb61"
      },
      "execution_count": null,
      "outputs": [
        {
          "output_type": "stream",
          "name": "stdout",
          "text": [
            "Tekst z przykladowy_modul.py\n"
          ]
        }
      ]
    },
    {
      "cell_type": "markdown",
      "source": [
        "# Praca z plikami"
      ],
      "metadata": {
        "id": "fixJpbtoKrV7"
      }
    },
    {
      "cell_type": "code",
      "source": [
        "%%writefile example.txt\n",
        "Siała baba mak\n",
        "Nie wiedziała jak"
      ],
      "metadata": {
        "colab": {
          "base_uri": "https://localhost:8080/"
        },
        "id": "-hCrO-DIK1gJ",
        "outputId": "46941f10-6f16-4ab0-a267-bc4694ba70e3"
      },
      "execution_count": null,
      "outputs": [
        {
          "output_type": "stream",
          "name": "stdout",
          "text": [
            "Overwriting example.txt\n"
          ]
        }
      ]
    },
    {
      "cell_type": "markdown",
      "source": [
        "## Otwieranie i zamykanie plików"
      ],
      "metadata": {
        "id": "9LZRUnc2KuI5"
      }
    },
    {
      "cell_type": "code",
      "source": [
        "# Otwarcie pliku do czytania (domyślny tryb to 'r' - read)\n",
        "plik = open('example.txt')\n",
        "# Zawsze zamykaj plik po zakończeniu pracy\n",
        "plik.close()\n"
      ],
      "metadata": {
        "id": "YM6zermFKVHF"
      },
      "execution_count": null,
      "outputs": []
    },
    {
      "cell_type": "markdown",
      "source": [
        "## Możemy czytać cały plik naraz lub linia po linii."
      ],
      "metadata": {
        "id": "6tkOKmfCLD1E"
      }
    },
    {
      "cell_type": "code",
      "source": [
        "plik = open('example.txt', 'r')\n",
        "tresc = plik.read()  # czyta cały plik\n",
        "print(tresc)\n",
        "plik.close()\n",
        "\n",
        "plik = open('example.txt', 'r')\n",
        "linia = plik.readline()  # czyta pierwszą linię\n",
        "print(linia)\n",
        "plik.close()\n"
      ],
      "metadata": {
        "colab": {
          "base_uri": "https://localhost:8080/"
        },
        "id": "npMSS_MSK_y3",
        "outputId": "82f3552b-91c4-4986-b71a-f5445a9237cd"
      },
      "execution_count": null,
      "outputs": [
        {
          "output_type": "stream",
          "name": "stdout",
          "text": [
            "Siała baba mak\n",
            "Nie wiedziała jak\n",
            "\n",
            "Siała baba mak\n",
            "\n"
          ]
        }
      ]
    },
    {
      "cell_type": "markdown",
      "source": [
        "## Zapisywanie do plików"
      ],
      "metadata": {
        "id": "aefhzSljLN_B"
      }
    },
    {
      "cell_type": "markdown",
      "source": [
        "Aby zapisać coś do pliku, otwórz go w trybie zapisu ('w') lub dokładania ('a')."
      ],
      "metadata": {
        "id": "T08YUhGHLPvP"
      }
    },
    {
      "cell_type": "code",
      "source": [
        "  # Zapis do pliku (tryb 'w' nadpisuje istniejącą zawartość pliku)\n",
        "plik = open('example.txt', 'w')\n",
        "plik.write('Nowa zawartość pliku.')\n",
        "plik.close()\n",
        "\n",
        "# Dodawanie do pliku (tryb 'a' dodaje na końcu pliku)\n",
        "plik = open('example.txt', 'a')\n",
        "plik.write('\\nDodatkowa linia na końcu.')\n",
        "plik.close()\n"
      ],
      "metadata": {
        "id": "E5yY804VLF4T"
      },
      "execution_count": null,
      "outputs": []
    },
    {
      "cell_type": "markdown",
      "source": [
        "## Praca z plikami w sposób bezpieczny – with"
      ],
      "metadata": {
        "id": "Rt1LN2-CLZMm"
      }
    },
    {
      "cell_type": "markdown",
      "source": [
        "Korzystając z konstrukcji with, Python automatycznie zamknie plik po opuszczeniu bloku, co jest bardziej efektywne i bezpieczne."
      ],
      "metadata": {
        "id": "e2265aPLLbuN"
      }
    },
    {
      "cell_type": "code",
      "source": [
        "with open('example.txt', 'r') as plik:\n",
        "    print(plik.read())\n",
        "# po opuszczeniu bloku \"with\" plik zostanie automatycznie zamknięty\n"
      ],
      "metadata": {
        "colab": {
          "base_uri": "https://localhost:8080/"
        },
        "id": "6o3lUUbNLXNs",
        "outputId": "f3ca4984-84ad-4e72-afe2-0d657e30437a"
      },
      "execution_count": null,
      "outputs": [
        {
          "output_type": "stream",
          "name": "stdout",
          "text": [
            "Nowa zawartość pliku.\n",
            "Dodatkowa linia na końcu.\n"
          ]
        }
      ]
    },
    {
      "cell_type": "markdown",
      "source": [
        "#  Klasy i obiekty"
      ],
      "metadata": {
        "id": "FUteG2aJL4Bi"
      }
    },
    {
      "cell_type": "markdown",
      "source": [
        "Klasy są \"szablonami\" dla obiektów. Tworzenie instancji klasy skutkuje powstaniem obiektu."
      ],
      "metadata": {
        "id": "D6adtZAtL7KC"
      }
    },
    {
      "cell_type": "code",
      "source": [
        "class Pies:\n",
        "    def __init__(self, imie):\n",
        "        self.imie = imie\n",
        "\n",
        "burek = Pies(imie=\"Burek\")\n",
        "print(burek.imie)  # Wypisze: Burek\n"
      ],
      "metadata": {
        "colab": {
          "base_uri": "https://localhost:8080/"
        },
        "id": "-3mf-oh_LdGF",
        "outputId": "fb166143-777b-4c8a-a6df-12f5d41e4d87"
      },
      "execution_count": null,
      "outputs": [
        {
          "output_type": "stream",
          "name": "stdout",
          "text": [
            "Burek\n"
          ]
        }
      ]
    },
    {
      "cell_type": "markdown",
      "source": [
        "## Metody"
      ],
      "metadata": {
        "id": "L8Q5bkIjL_SJ"
      }
    },
    {
      "cell_type": "markdown",
      "source": [
        "Metody to funkcje zdefiniowane wewnątrz klasy, które działają na danych obiektu."
      ],
      "metadata": {
        "id": "ntDLiaglMCCe"
      }
    },
    {
      "cell_type": "markdown",
      "source": [
        "`self` to odniesienie do bieżącej instancji klasy w Pythonie. Jest to pierwszy argument przekazywany do każdej metody w klasie, choć nie musisz go jawnie przekazywać, gdy wywołujesz tę metodę na obiekcie. W Pythonie konwencją jest nazywanie tego argumentu `self`, chociaż możesz teoretycznie nazwać go inaczej.\n",
        "\n"
      ],
      "metadata": {
        "id": "gH45pmojMYLJ"
      }
    },
    {
      "cell_type": "code",
      "source": [
        "class Pies:\n",
        "    def __init__(self, imie):\n",
        "        self.imie = imie\n",
        "\n",
        "    def szczekaj(self):\n",
        "        print(f\"{self.imie} szczeka!\")\n",
        "\n",
        "azor = Pies(\"Azor\")\n",
        "azor.szczekaj()  # Wypisze: Azor szczeka!\n"
      ],
      "metadata": {
        "colab": {
          "base_uri": "https://localhost:8080/"
        },
        "id": "juiuQ8DFL9Nw",
        "outputId": "93273f54-5414-40a7-ebde-4727d4ee9668"
      },
      "execution_count": null,
      "outputs": [
        {
          "output_type": "stream",
          "name": "stdout",
          "text": [
            "Azor szczeka!\n"
          ]
        }
      ]
    },
    {
      "cell_type": "markdown",
      "source": [
        "W obrębie klasy możesz używać self, aby wywołać inne metody tej klasy:"
      ],
      "metadata": {
        "id": "AO7ToiHuMr_G"
      }
    },
    {
      "cell_type": "markdown",
      "source": [
        "## Atrybuty"
      ],
      "metadata": {
        "id": "s6VuNtK7MGcM"
      }
    },
    {
      "cell_type": "code",
      "source": [
        "class Przyklad:\n",
        "    def pierwsza_metoda(self):\n",
        "        print(\"Pierwsza metoda.\")\n",
        "\n",
        "    def druga_metoda(self):\n",
        "        self.pierwsza_metoda()\n",
        "        print(\"Druga metoda.\")\n"
      ],
      "metadata": {
        "id": "NfWgdG_YMuVR"
      },
      "execution_count": null,
      "outputs": []
    },
    {
      "cell_type": "markdown",
      "source": [
        "Atrybuty to zmienne związane z instancją klasy."
      ],
      "metadata": {
        "id": "7vlLTH5NMJqN"
      }
    },
    {
      "cell_type": "markdown",
      "source": [
        "Można używać self, aby odnosić się do atrybutów obiektu, które są specyficzne dla każdej instancji"
      ],
      "metadata": {
        "id": "BS_yQztfMfnb"
      }
    },
    {
      "cell_type": "code",
      "source": [
        "class Osoba:\n",
        "    def __init__(self, imie, nazwisko):\n",
        "        self.imie = imie\n",
        "        self.nazwisko = nazwisko\n"
      ],
      "metadata": {
        "id": "0SbxkWq8MD9k"
      },
      "execution_count": null,
      "outputs": []
    },
    {
      "cell_type": "markdown",
      "source": [
        "## Funkcje specjalne (metody magiczne):"
      ],
      "metadata": {
        "id": "1rgMJlwNM2oN"
      }
    },
    {
      "cell_type": "markdown",
      "source": [
        "Funkcje specjalne w Pythonie zaczynają się i kończą podwójnym podkreśleniem (`__`). Na przykład `__init__ `to metoda magiczna, która jest wywoływana podczas tworzenia obiektu."
      ],
      "metadata": {
        "id": "ggnQFdTHM5e4"
      }
    },
    {
      "cell_type": "markdown",
      "source": [
        "Inne przykłady:\n",
        "\n",
        "`__str__`: Zwraca reprezentację tekstową obiektu.\n",
        "\n",
        "`__len__`: Pozwala użyć funkcji len() na obiektach naszej klasy.\n",
        "\n",
        "`__del__`: Wywoływana podczas usuwania obiektu."
      ],
      "metadata": {
        "id": "V-RMxxVgM-oi"
      }
    },
    {
      "cell_type": "markdown",
      "source": [
        "## Dziedziczenie:"
      ],
      "metadata": {
        "id": "ZQSdvi9ANFGx"
      }
    },
    {
      "cell_type": "markdown",
      "source": [
        "Dziedziczenie pozwala nowej klasie dziedziczyć atrybuty i metody z innej klasy."
      ],
      "metadata": {
        "id": "0rVvm3HTNI6u"
      }
    },
    {
      "cell_type": "code",
      "source": [
        "class Zwierze:\n",
        "    def __init__(self, imie):\n",
        "        self.imie = imie\n",
        "\n",
        "    def mowi(self):\n",
        "        print(f\"{self.imie} robi jakiś dźwięk!\")\n",
        "\n",
        "class Kot(Zwierze):\n",
        "    def mowi(self):\n",
        "        print(f\"{self.imie} miauczy!\")\n",
        "\n",
        "mruczek = Kot(\"Mruczek\")\n",
        "mruczek.mowi()  # \"Mruczek miauczy!\""
      ],
      "metadata": {
        "colab": {
          "base_uri": "https://localhost:8080/"
        },
        "id": "nZb60Qb5MlhA",
        "outputId": "c2922342-8f9f-475f-bd0f-c50f6dfac0f9"
      },
      "execution_count": null,
      "outputs": [
        {
          "output_type": "stream",
          "name": "stdout",
          "text": [
            "Mruczek miauczy!\n"
          ]
        }
      ]
    },
    {
      "cell_type": "markdown",
      "source": [
        "Aby skorzystać z metody rodzica możemy użyć funkcji `super()`"
      ],
      "metadata": {
        "id": "2mst_5c-Y9jL"
      }
    },
    {
      "cell_type": "code",
      "source": [
        "class Zwierze:\n",
        "    def __init__(self, imie):\n",
        "        self.imie = imie\n",
        "\n",
        "    def mowi(self, sound):\n",
        "        print(f\"To zwierzę robi {sound}\")\n",
        "\n",
        "class Kot(Zwierze):\n",
        "    def mowi(self):\n",
        "        super().mowi(\"miau\")\n",
        "\n",
        "mruczek = Kot(\"Mruczek\")\n",
        "mruczek.mowi()  # \"Mruczek miauczy!\""
      ],
      "metadata": {
        "colab": {
          "base_uri": "https://localhost:8080/"
        },
        "id": "YO8U5YzHY9EU",
        "outputId": "6c776bd9-e8f3-4561-f292-d772acad32d4"
      },
      "execution_count": null,
      "outputs": [
        {
          "output_type": "stream",
          "name": "stdout",
          "text": [
            "To zwierzę robi miau\n"
          ]
        }
      ]
    },
    {
      "cell_type": "markdown",
      "source": [
        "## Hermetyzacja"
      ],
      "metadata": {
        "id": "a_7beR1MNbXi"
      }
    },
    {
      "cell_type": "markdown",
      "source": [
        "Jest to praktyka ukrywania wewnętrznych szczegółów implementacji klasy i eksponowania tylko bezpiecznych do używania metod i atrybutów. W Pythonie nie ma ścisłej hermetyzacji, ale konwencja mówi, że atrybut zaczynający się od pojedynczego podkreślenia (`_`) powinien być traktowany jako \"chroniony\" lub \"prywatny\"."
      ],
      "metadata": {
        "id": "-c9-gyupNeEz"
      }
    },
    {
      "cell_type": "code",
      "source": [
        "class Przyklad:\n",
        "    def _metoda_prywatna(self):\n",
        "        print(\"Pierwsza metoda.\")\n",
        "\n",
        "    def metoda_publiczna(self):\n",
        "        self._metoda_prywatna()\n",
        "        print(\"Druga metoda.\")\n"
      ],
      "metadata": {
        "id": "FKc2OCXpNRDw"
      },
      "execution_count": null,
      "outputs": []
    },
    {
      "cell_type": "markdown",
      "source": [
        "# Zaawansowane koncepty"
      ],
      "metadata": {
        "id": "hQq74dCLNq5Y"
      }
    },
    {
      "cell_type": "markdown",
      "source": [
        "## Typehinting"
      ],
      "metadata": {
        "id": "dFV9lWSpNvDS"
      }
    },
    {
      "cell_type": "markdown",
      "source": [
        "Type hinting w Pythonie odnosi się do techniki podpowiadania typów dla zmiennych, funkcji i metod. Wprowadzenie tej funkcji do języka miało miejsce w Pythonie 3.5 dzięki PEP 484. Chociaż Python pozostaje językiem dynamicznie typowanym, type hinting pozwala programistom wskazywać oczekiwane typy, co ułatwia zrozumienie kodu i korzystanie z narzędzi do sprawdzania typów, takich jak `mypy`."
      ],
      "metadata": {
        "id": "2pUPqp30NxTr"
      }
    },
    {
      "cell_type": "markdown",
      "source": [
        "Możemy wskazać na typ zmiennej podjąc go po `:` po nazwie zmiennej"
      ],
      "metadata": {
        "id": "QvzhQ0eXN3wO"
      }
    },
    {
      "cell_type": "code",
      "source": [
        "name: str = \"ChatGPT\"\n",
        "age: int = 2"
      ],
      "metadata": {
        "id": "-XRwA0IaNLWQ"
      },
      "execution_count": null,
      "outputs": []
    },
    {
      "cell_type": "markdown",
      "source": [
        "Python nadal jessty dynamicznie typowany więc podanie złego typu nie zwróci błędu ale możemy skorzystać z narzędzi takich jak `mypy` do sprawdzania poprawności typów w naszym kodzie"
      ],
      "metadata": {
        "id": "EgkQW50oOCDf"
      }
    },
    {
      "cell_type": "code",
      "source": [
        "age: int = \"2\" #nie wzwraca błedu"
      ],
      "metadata": {
        "id": "SSy2fGj_N2aw"
      },
      "execution_count": null,
      "outputs": []
    },
    {
      "cell_type": "markdown",
      "source": [
        "Zapiszmy kod do pliku"
      ],
      "metadata": {
        "id": "zrLrnmxzOT6b"
      }
    },
    {
      "cell_type": "code",
      "source": [
        "%%writefile test_typu.py\n",
        "age: int = \"2\""
      ],
      "metadata": {
        "colab": {
          "base_uri": "https://localhost:8080/"
        },
        "id": "d994Qf00OTLd",
        "outputId": "9f2e6d5f-4ad7-4fd5-858b-4993779a3abc"
      },
      "execution_count": null,
      "outputs": [
        {
          "output_type": "stream",
          "name": "stdout",
          "text": [
            "Writing test_typu.py\n"
          ]
        }
      ]
    },
    {
      "cell_type": "markdown",
      "source": [
        "W google colab \"!\" pozwala na wykonywanie poleceń w terminalu"
      ],
      "metadata": {
        "id": "mo8Y5F5xOi5Y"
      }
    },
    {
      "cell_type": "code",
      "source": [
        "!pip install mypy"
      ],
      "metadata": {
        "colab": {
          "base_uri": "https://localhost:8080/"
        },
        "id": "BGzgchrBOhHX",
        "outputId": "c410dc94-79a2-4cf5-def1-be9058eb8808"
      },
      "execution_count": null,
      "outputs": [
        {
          "output_type": "stream",
          "name": "stdout",
          "text": [
            "Collecting mypy\n",
            "  Downloading mypy-1.5.1-cp310-cp310-manylinux_2_17_x86_64.manylinux2014_x86_64.whl (12.1 MB)\n",
            "\u001b[2K     \u001b[90m━━━━━━━━━━━━━━━━━━━━━━━━━━━━━━━━━━━━━━━━\u001b[0m \u001b[32m12.1/12.1 MB\u001b[0m \u001b[31m22.3 MB/s\u001b[0m eta \u001b[36m0:00:00\u001b[0m\n",
            "\u001b[?25hRequirement already satisfied: typing-extensions>=4.1.0 in /usr/local/lib/python3.10/dist-packages (from mypy) (4.5.0)\n",
            "Collecting mypy-extensions>=1.0.0 (from mypy)\n",
            "  Downloading mypy_extensions-1.0.0-py3-none-any.whl (4.7 kB)\n",
            "Requirement already satisfied: tomli>=1.1.0 in /usr/local/lib/python3.10/dist-packages (from mypy) (2.0.1)\n",
            "Installing collected packages: mypy-extensions, mypy\n",
            "Successfully installed mypy-1.5.1 mypy-extensions-1.0.0\n"
          ]
        }
      ]
    },
    {
      "cell_type": "markdown",
      "source": [
        "Sprawdźmy nasz kod przy użyciu bibliteki `mypy`"
      ],
      "metadata": {
        "id": "9RqjaZ8hO1rT"
      }
    },
    {
      "cell_type": "code",
      "source": [
        "!mypy test_typu.py"
      ],
      "metadata": {
        "colab": {
          "base_uri": "https://localhost:8080/"
        },
        "id": "A0ArmllXOY1z",
        "outputId": "fc29fe28-e1a6-4a6a-8d8c-9ffccc6977c9"
      },
      "execution_count": null,
      "outputs": [
        {
          "output_type": "stream",
          "name": "stdout",
          "text": [
            "test_typu.py:1: \u001b[1m\u001b[31merror:\u001b[m Incompatible types in assignment (expression has type \u001b[m\u001b[1m\"str\"\u001b[m, variable has type \u001b[m\u001b[1m\"int\"\u001b[m)  \u001b[m\u001b[33m[assignment]\u001b[m\n",
            "\u001b[1m\u001b[31mFound 1 error in 1 file (checked 1 source file)\u001b[m\n"
          ]
        }
      ]
    },
    {
      "cell_type": "markdown",
      "source": [
        "### Podpowiadanie typów w funkcji"
      ],
      "metadata": {
        "id": "1E92i6HTO8sK"
      }
    },
    {
      "cell_type": "code",
      "source": [
        "def greet(name: str) -> str:\n",
        "    return f\"Hello, {name}!\"\n",
        "\n",
        "greet(3) #nie zwraca błedu"
      ],
      "metadata": {
        "colab": {
          "base_uri": "https://localhost:8080/",
          "height": 35
        },
        "id": "s_LwebYROcYh",
        "outputId": "a25d69bb-4d45-413c-c7ee-58636392e642"
      },
      "execution_count": null,
      "outputs": [
        {
          "output_type": "execute_result",
          "data": {
            "text/plain": [
              "'Hello, 3!'"
            ],
            "application/vnd.google.colaboratory.intrinsic+json": {
              "type": "string"
            }
          },
          "metadata": {},
          "execution_count": 68
        }
      ]
    },
    {
      "cell_type": "code",
      "source": [
        "%%writefile test_typu2.py\n",
        "def greet(name: str) -> str:\n",
        "    return f\"Hello, {name}!\"\n",
        "\n",
        "greet(3)"
      ],
      "metadata": {
        "colab": {
          "base_uri": "https://localhost:8080/"
        },
        "id": "j-zGC1MGPLJG",
        "outputId": "e68d38e2-700a-49db-a7e5-24ce2cbdb046"
      },
      "execution_count": null,
      "outputs": [
        {
          "output_type": "stream",
          "name": "stdout",
          "text": [
            "Writing test_typu2.py\n"
          ]
        }
      ]
    },
    {
      "cell_type": "markdown",
      "source": [
        "Zwraca błąd"
      ],
      "metadata": {
        "id": "mEnV6gOoPQRi"
      }
    },
    {
      "cell_type": "code",
      "source": [
        "!mypy test_typu2.py"
      ],
      "metadata": {
        "colab": {
          "base_uri": "https://localhost:8080/"
        },
        "id": "aeXHQpMkPBwA",
        "outputId": "b8f7a8d7-5c58-40a1-fd27-a6a37f2be8d5"
      },
      "execution_count": null,
      "outputs": [
        {
          "output_type": "stream",
          "name": "stdout",
          "text": [
            "test_typu2.py:4: \u001b[1m\u001b[31merror:\u001b[m Argument 1 to \u001b[m\u001b[1m\"greet\"\u001b[m has incompatible type \u001b[m\u001b[1m\"int\"\u001b[m; expected \u001b[m\u001b[1m\"str\"\u001b[m  \u001b[m\u001b[33m[arg-type]\u001b[m\n",
            "\u001b[1m\u001b[31mFound 1 error in 1 file (checked 1 source file)\u001b[m\n"
          ]
        }
      ]
    },
    {
      "cell_type": "markdown",
      "source": [
        "### Typy opcjonalne"
      ],
      "metadata": {
        "id": "FlIO3W2FPT7I"
      }
    },
    {
      "cell_type": "markdown",
      "source": [
        "Często możemy mieć zmienne, które mogą przyjąć wartość `None`. Możemy to wskazać używając `Optional`."
      ],
      "metadata": {
        "id": "pay1k9CLPWc7"
      }
    },
    {
      "cell_type": "code",
      "source": [
        "from typing import Optional\n",
        "\n",
        "def find_user(id: int) -> Optional[str]:\n",
        "    # Zakładając, że mamy jakiś sposób szukania użytkownika...\n",
        "    # ...jeśli użytkownik nie zostanie znaleziony, zwracana jest wartość None\n",
        "    return None\n"
      ],
      "metadata": {
        "id": "H9BqgT5WPPES"
      },
      "execution_count": null,
      "outputs": []
    },
    {
      "cell_type": "markdown",
      "source": [
        "### Klasy i metody"
      ],
      "metadata": {
        "id": "j445KQUDPgE9"
      }
    },
    {
      "cell_type": "code",
      "source": [
        "class User:\n",
        "    def __init__(self, name: str, age: int):\n",
        "        self.name = name\n",
        "        self.age = age\n"
      ],
      "metadata": {
        "id": "G6xa4VLwPeRl"
      },
      "execution_count": null,
      "outputs": []
    },
    {
      "cell_type": "markdown",
      "source": [
        "Dlaczego type hinting jest przydatny?\n",
        "Czytelność: Podpowiadanie typów czyni kod bardziej czytelnym, ponieważ od razu widzimy, jakie typy są oczekiwane i zwracane.\n",
        "\n",
        "**Sprawdzanie typów**: Narzędzia, takie jak mypy, mogą automatycznie sprawdzać kod w poszukiwaniu potencjalnych problemów związanych z typami.\n",
        "\n",
        "**Wsparcie dla IDE**: Wielu edytorów i środowisk programistycznych korzysta z type hinting do podpowiadania kodu, refaktoryzacji i wykrywania błędów w czasie rzeczywistym.\n",
        "\n",
        "Warto zaznaczyć, że type hinting w Pythonie jest całkowicie opcjonalny i nie wpływa na wydajność kodu w czasie wykonania. Jego głównym celem jest poprawa czytelności kodu i wsparcie dla narzędzi zewnętrznych."
      ],
      "metadata": {
        "id": "qpnGT3sUPkm5"
      }
    },
    {
      "cell_type": "markdown",
      "source": [
        "## Poetry"
      ],
      "metadata": {
        "id": "B-CcvGAZP3oK"
      }
    },
    {
      "cell_type": "markdown",
      "source": [
        "Poetry to narzędzie do zarządzania zależnościami i budowania pakietów w Pythonie, aternatywne dla `pip`, które oferuje spójny sposób na zarządzanie projektem. Umożliwia definicję i zarządzanie zależnościami, a także budowanie, publikowanie i instalowanie pakietów w jednolity i spójny sposób"
      ],
      "metadata": {
        "id": "VyDQ1IGKP5kh"
      }
    },
    {
      "cell_type": "markdown",
      "source": [
        "Zalety poetry:\n",
        "\n",
        "**Deklaratywne zarządzanie zależnościami:**\n",
        "\n",
        "* Poetry używa pliku `pyproject.toml` do deklaratywnego określania zależnościami, co jest bardziej zrozumiałe i łatwe w zarządzaniu niż tradycyjne pliki` requirements.txt` używane przez pip.\n",
        "* Dzięki temu zarządzanie bezpośrednimi i pośrednimi zależnościami staje się bardziej przejrzyste.\n",
        "\n",
        "**Zintegrowane zarządzanie zależnościami i tworzenie pakietów:**\n",
        "\n",
        "*Poetry integruje zarządzanie zależnościami z procesem budowy i publikacji pakietów, eliminując potrzebę korzystania z kilku narzędzi (takich jak `pip`, `setuptools` czy `twine`).\n",
        "Rozwiązywanie zależnościami:\n",
        "\n",
        "* Poetry ma wbudowany rozwiązywacz zależnościami, który zapewnia spójność wszystkich zależności pakietu.\n",
        "Dzięki temu unika się problemów związanych z niekompatybilnymi wersjami pakietów.\n",
        "\n",
        "**Izolacja projektu:**\n",
        "\n",
        "* Poetry automatycznie tworzy i zarządza wirtualnymi środowiskami dla każdego projektu. Dzięki temu nie ma potrzeby ręcznego zarządzania wirtualnymi środowiskami za pomocą narzędzi takich jak virtualenv.\n",
        "Spójność:\n",
        "\n",
        "* Poetry zapewnia spójny interfejs dla wszystkich operacji związanych z zarządzaniem pakietami i zależnościami, co czyni go bardziej jednolitym w użytkowaniu.\n",
        "\n",
        "**Plik lock:**\n",
        "\n",
        "* Poetry tworzy plik poetry.lock, który gwarantuje, że wszystkie środowiska (np. deweloperskie, produkcyjne) używają dokładnie tych samych wersji zależności.\n",
        "Wsparcie dla prywatnych repozytoriów:\n",
        "\n"
      ],
      "metadata": {
        "id": "No3eyA2nQnc0"
      }
    },
    {
      "cell_type": "markdown",
      "source": [
        "Więcej o poetry https://python-poetry.org/"
      ],
      "metadata": {
        "id": "oztEctJgRi-r"
      }
    },
    {
      "cell_type": "markdown",
      "source": [
        "# Zadania"
      ],
      "metadata": {
        "id": "LAnx6AwlSDkB"
      }
    },
    {
      "cell_type": "markdown",
      "source": [
        "## Zadanie 1"
      ],
      "metadata": {
        "id": "AVvMG3FZXug7"
      }
    },
    {
      "cell_type": "markdown",
      "source": [
        "Zadanie 1: Napisz funkcję o nazwie suma_cyfr, która przyjmuje liczbę całkowitą i zwraca sumę jej cyfr. Na przykład, dla liczby 123 wynik to 6."
      ],
      "metadata": {
        "id": "aYXRrkXqXrIf"
      }
    },
    {
      "cell_type": "code",
      "source": [
        "def suma_cyfr(n):\n",
        "    suma = 0\n",
        "    n = abs(n)\n",
        "    while n:\n",
        "        suma += n % 10\n",
        "        n //= 10\n",
        "    return suma\n"
      ],
      "metadata": {
        "id": "O_3Dddk6XywY"
      },
      "execution_count": null,
      "outputs": []
    },
    {
      "cell_type": "markdown",
      "source": [
        "Testy"
      ],
      "metadata": {
        "id": "-vG_MJFQdsNO"
      }
    },
    {
      "cell_type": "code",
      "source": [
        "assert suma_cyfr(123) == 6\n",
        "assert suma_cyfr(456) == 15\n",
        "assert suma_cyfr(-789) == 24\n",
        "assert suma_cyfr(0) == 0\n"
      ],
      "metadata": {
        "id": "sL-jHTYNThTy"
      },
      "execution_count": null,
      "outputs": []
    },
    {
      "cell_type": "markdown",
      "source": [
        "## Zadanie 2"
      ],
      "metadata": {
        "id": "SWsBlBVXbvqW"
      }
    },
    {
      "cell_type": "markdown",
      "source": [
        "Napisz funkcję `czy_anagramy` przyjmującą dwa łańcuchy znaków i zwracającą `True`, jeśli są one anagramami względem siebie, lub False w przeciwnym przypadku. Na przykład, \"listen\" i \"silent\" to anagramy."
      ],
      "metadata": {
        "id": "kcBO6E3oYPvL"
      }
    },
    {
      "cell_type": "code",
      "source": [
        "def czy_anagramy(s1, s2):\n",
        "    s1 = s1.replace(' ', '').lower()\n",
        "    s2 = s2.replace(' ', '').lower()\n",
        "\n",
        "    return sorted(s1) == sorted(s2)\n"
      ],
      "metadata": {
        "id": "WIp9rtPlYOGs"
      },
      "execution_count": null,
      "outputs": []
    },
    {
      "cell_type": "markdown",
      "source": [
        "Testy"
      ],
      "metadata": {
        "id": "TMdX5wVBdp5f"
      }
    },
    {
      "cell_type": "code",
      "source": [
        "assert czy_anagramy(\"listen\", \"silent\") == True\n",
        "assert czy_anagramy(\"hello\", \"world\") == False\n",
        "assert czy_anagramy(\"god\", \"dog\") == True\n",
        "assert czy_anagramy(\"aabb\", \"abab\") == True\n"
      ],
      "metadata": {
        "id": "EgxM-sasYV1G"
      },
      "execution_count": null,
      "outputs": []
    },
    {
      "cell_type": "markdown",
      "source": [
        "## Zadanie 3\n"
      ],
      "metadata": {
        "id": "Ng7t1o6xbiGW"
      }
    },
    {
      "cell_type": "markdown",
      "source": [
        "# New Section"
      ],
      "metadata": {
        "id": "Y9OBuf6MX0Sh"
      }
    },
    {
      "cell_type": "markdown",
      "source": [
        "\n",
        "Stwórz klasę BazaDanych, która umożliwia zapis i odczyt danych z pliku tekstowego. Klasa powinna mieć następujące funkcje:\n",
        "\n",
        "`dodaj_rekord(self, rekord: dict)`: Ta funkcja dodaje nowy rekord do bazy danych. Rekord jest słownikiem z dowolnymi kluczami i wartościami.\n",
        "\n",
        "`zapisz_do_pliku(self, nazwa_pliku: str)`: Zapisuje aktualną bazę danych do pliku o podanej nazwie w formacie JSON.\n",
        "\n",
        "`wczytaj_z_pliku(self, nazwa_pliku: str)`: Wczytuje bazę danych z pliku o podanej nazwie, zakładając, że plik ma format JSON.\n",
        "\n",
        "`szukaj(self, klucz: str, wartosc: any) -> list`: Szuka rekordów w bazie, które mają określony klucz i wartość. Zwraca listę pasujących rekordów.\n",
        "\n",
        "Wskazówka https://www.w3schools.com/python/python_json.asp"
      ],
      "metadata": {
        "id": "oBYL8Z98bKMZ"
      }
    },
    {
      "cell_type": "code",
      "source": [
        "import json\n",
        "\n",
        "class BazaDanych:\n",
        "    def __init__(self):\n",
        "        self.baza_danych = []\n",
        "\n",
        "    def dodaj_rekord(self, rekord: dict):\n",
        "        self.baza_danych.append(rekord)\n",
        "\n",
        "    def zapisz_do_pliku(self, nazwa_pliku: str):\n",
        "        with open(nazwa_pliku, 'w') as plik:\n",
        "            json.dump(self.baza_danych, plik, indent=4)\n",
        "\n",
        "    def wczytaj_z_pliku(self, nazwa_pliku: str):\n",
        "        with open(nazwa_pliku, 'r') as plik:\n",
        "            self.baza_danych = json.load(plik)\n",
        "\n",
        "    def szukaj(self, klucz: str, wartosc: any) -> list:\n",
        "        znalezione_rekordy = []\n",
        "        for rekord in self.baza_danych:\n",
        "            if klucz in rekord and rekord[klucz] == wartosc:\n",
        "                znalezione_rekordy.append(rekord)\n",
        "        return znalezione_rekordy\n"
      ],
      "metadata": {
        "id": "C_hZx825bKta"
      },
      "execution_count": null,
      "outputs": []
    },
    {
      "cell_type": "markdown",
      "source": [
        "Testy"
      ],
      "metadata": {
        "id": "nOw2uMOAd2ZI"
      }
    },
    {
      "cell_type": "code",
      "source": [
        "baza = BazaDanych()\n",
        "baza.dodaj_rekord({'imie': 'Jan', 'wiek': 25})\n",
        "baza.dodaj_rekord({'imie': 'Anna', 'wiek': 30})\n",
        "\n",
        "# Zapis do pliku\n",
        "baza.zapisz_do_pliku('test_baza.json')\n",
        "\n",
        "# Tworzenie nowej bazy i wczytywanie z pliku\n",
        "nowa_baza = BazaDanych()\n",
        "nowa_baza.wczytaj_z_pliku('test_baza.json')\n",
        "assert len(nowa_baza.baza) == 2\n",
        "\n",
        "# Szukanie rekordu\n",
        "rekordy = nowa_baza.szukaj('imie', 'Jan')\n",
        "assert len(rekordy) == 1\n",
        "assert rekordy[0]['wiek'] == 25"
      ],
      "metadata": {
        "id": "XMNlThgpbcL_",
        "colab": {
          "base_uri": "https://localhost:8080/",
          "height": 250
        },
        "outputId": "d6e5ecb9-9d29-4e2c-e0df-49b65fc9545a"
      },
      "execution_count": null,
      "outputs": [
        {
          "output_type": "error",
          "ename": "AttributeError",
          "evalue": "ignored",
          "traceback": [
            "\u001b[0;31m---------------------------------------------------------------------------\u001b[0m",
            "\u001b[0;31mAttributeError\u001b[0m                            Traceback (most recent call last)",
            "\u001b[0;32m<ipython-input-2-d75151bdc5f8>\u001b[0m in \u001b[0;36m<cell line: 11>\u001b[0;34m()\u001b[0m\n\u001b[1;32m      9\u001b[0m \u001b[0mnowa_baza\u001b[0m \u001b[0;34m=\u001b[0m \u001b[0mBazaDanych\u001b[0m\u001b[0;34m(\u001b[0m\u001b[0;34m)\u001b[0m\u001b[0;34m\u001b[0m\u001b[0;34m\u001b[0m\u001b[0m\n\u001b[1;32m     10\u001b[0m \u001b[0mnowa_baza\u001b[0m\u001b[0;34m.\u001b[0m\u001b[0mwczytaj_z_pliku\u001b[0m\u001b[0;34m(\u001b[0m\u001b[0;34m'test_baza.json'\u001b[0m\u001b[0;34m)\u001b[0m\u001b[0;34m\u001b[0m\u001b[0;34m\u001b[0m\u001b[0m\n\u001b[0;32m---> 11\u001b[0;31m \u001b[0;32massert\u001b[0m \u001b[0mlen\u001b[0m\u001b[0;34m(\u001b[0m\u001b[0mnowa_baza\u001b[0m\u001b[0;34m.\u001b[0m\u001b[0mbaza\u001b[0m\u001b[0;34m)\u001b[0m \u001b[0;34m==\u001b[0m \u001b[0;36m2\u001b[0m\u001b[0;34m\u001b[0m\u001b[0;34m\u001b[0m\u001b[0m\n\u001b[0m\u001b[1;32m     12\u001b[0m \u001b[0;34m\u001b[0m\u001b[0m\n\u001b[1;32m     13\u001b[0m \u001b[0;31m# Szukanie rekordu\u001b[0m\u001b[0;34m\u001b[0m\u001b[0;34m\u001b[0m\u001b[0m\n",
            "\u001b[0;31mAttributeError\u001b[0m: 'BazaDanych' object has no attribute 'baza'"
          ]
        }
      ]
    },
    {
      "cell_type": "code",
      "source": [],
      "metadata": {
        "id": "x1-VDy2lQbwQ"
      },
      "execution_count": null,
      "outputs": []
    }
  ]
}